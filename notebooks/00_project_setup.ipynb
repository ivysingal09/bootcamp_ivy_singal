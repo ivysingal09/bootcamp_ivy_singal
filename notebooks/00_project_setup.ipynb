{
 "cells": [
  {
   "cell_type": "code",
   "execution_count": 1,
   "id": "b705f000-f7fc-46a8-97a3-13635b9673de",
   "metadata": {},
   "outputs": [
    {
     "name": "stdout",
     "output_type": "stream",
     "text": [
      "Loading: /Users/ivysingal/bootcamp_ivy_singal/.env\n",
      "loaded: True\n",
      "API_KEY value: dummy_key_123\n",
      "API_KEY present: True\n",
      "NumPy demo: [2 4 6]\n"
     ]
    }
   ],
   "source": [
    "from dotenv import load_dotenv\n",
    "from pathlib import Path\n",
    "import os, numpy as np\n",
    "\n",
    "env_path = Path(\"..\") / \".env\"\n",
    "print(\"Loading:\", env_path.resolve())\n",
    "loaded = load_dotenv(env_path)\n",
    "print(\"loaded:\", loaded)\n",
    "print(\"API_KEY value:\", os.getenv(\"API_KEY\"))\n",
    "print(\"API_KEY present:\", \"API_KEY\" in os.environ)\n",
    "\n",
    "print(\"NumPy demo:\", (np.array([1,2,3]) * 2))"
   ]
  },
  {
   "cell_type": "code",
   "execution_count": null,
   "id": "985017e4-797c-4965-9459-cee15bfcccae",
   "metadata": {},
   "outputs": [],
   "source": []
  }
 ],
 "metadata": {
  "kernelspec": {
   "display_name": "Python 3 (ipykernel)",
   "language": "python",
   "name": "python3"
  },
  "language_info": {
   "codemirror_mode": {
    "name": "ipython",
    "version": 3
   },
   "file_extension": ".py",
   "mimetype": "text/x-python",
   "name": "python",
   "nbconvert_exporter": "python",
   "pygments_lexer": "ipython3",
   "version": "3.11.13"
  }
 },
 "nbformat": 4,
 "nbformat_minor": 5
}
