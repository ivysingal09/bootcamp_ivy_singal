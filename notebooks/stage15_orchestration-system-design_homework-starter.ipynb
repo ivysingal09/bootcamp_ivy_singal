{
 "cells": [
  {
   "cell_type": "markdown",
   "id": "c6d63de2-7b8c-4b61-b30d-af477939c194",
   "metadata": {},
   "source": [
    "# Homework — Stage 15: Orchestration & System Design"
   ]
  },
  {
   "cell_type": "markdown",
   "id": "dd3c3af3-c58d-4a78-a43d-fdab90a9aa55",
   "metadata": {},
   "source": [
    "## 1) Project Task Decomposition"
   ]
  },
  {
   "cell_type": "code",
   "execution_count": 4,
   "id": "a5f67399",
   "metadata": {},
   "outputs": [
    {
     "data": {
      "text/html": [
       "<div>\n",
       "<style scoped>\n",
       "    .dataframe tbody tr th:only-of-type {\n",
       "        vertical-align: middle;\n",
       "    }\n",
       "\n",
       "    .dataframe tbody tr th {\n",
       "        vertical-align: top;\n",
       "    }\n",
       "\n",
       "    .dataframe thead th {\n",
       "        text-align: right;\n",
       "    }\n",
       "</style>\n",
       "<table border=\"1\" class=\"dataframe\">\n",
       "  <thead>\n",
       "    <tr style=\"text-align: right;\">\n",
       "      <th></th>\n",
       "      <th>task</th>\n",
       "      <th>inputs</th>\n",
       "      <th>outputs</th>\n",
       "      <th>idempotent</th>\n",
       "      <th>owner</th>\n",
       "    </tr>\n",
       "  </thead>\n",
       "  <tbody>\n",
       "    <tr>\n",
       "      <th>0</th>\n",
       "      <td>ingest</td>\n",
       "      <td>[data/raw.ext]</td>\n",
       "      <td>[data/raw.json]</td>\n",
       "      <td>True</td>\n",
       "      <td>data_eng</td>\n",
       "    </tr>\n",
       "    <tr>\n",
       "      <th>1</th>\n",
       "      <td>clean</td>\n",
       "      <td>[data/raw.ext]</td>\n",
       "      <td>[data/clean.json]</td>\n",
       "      <td>True</td>\n",
       "      <td>data_eng</td>\n",
       "    </tr>\n",
       "    <tr>\n",
       "      <th>2</th>\n",
       "      <td>train_or_score</td>\n",
       "      <td>[data/clean.json, model/model.pkl]</td>\n",
       "      <td>[model/model.pkl, data/scores.json]</td>\n",
       "      <td>True</td>\n",
       "      <td>ml_eng</td>\n",
       "    </tr>\n",
       "    <tr>\n",
       "      <th>3</th>\n",
       "      <td>report</td>\n",
       "      <td>[data/clean.json, model/model.pkl]</td>\n",
       "      <td>[reports/report.txt]</td>\n",
       "      <td>True</td>\n",
       "      <td>analyst</td>\n",
       "    </tr>\n",
       "  </tbody>\n",
       "</table>\n",
       "</div>"
      ],
      "text/plain": [
       "             task                              inputs  \\\n",
       "0          ingest                      [data/raw.ext]   \n",
       "1           clean                      [data/raw.ext]   \n",
       "2  train_or_score  [data/clean.json, model/model.pkl]   \n",
       "3          report  [data/clean.json, model/model.pkl]   \n",
       "\n",
       "                               outputs  idempotent     owner  \n",
       "0                      [data/raw.json]        True  data_eng  \n",
       "1                    [data/clean.json]        True  data_eng  \n",
       "2  [model/model.pkl, data/scores.json]        True    ml_eng  \n",
       "3                 [reports/report.txt]        True   analyst  "
      ]
     },
     "execution_count": 4,
     "metadata": {},
     "output_type": "execute_result"
    }
   ],
   "source": [
    "from pathlib import Path\n",
    "import pandas as pd\n",
    "\n",
    "# resolve repo root whether you run from notebooks/ or root\n",
    "ROOT = Path.cwd()\n",
    "if not (ROOT / \"src\").exists():  # likely running from notebooks/\n",
    "    ROOT = ROOT.parent\n",
    "\n",
    "tasks = pd.DataFrame({\n",
    "    \"task\":       [\"ingest\", \"clean\", \"train_or_score\", \"report\"],\n",
    "    \"inputs\":     [[\"data/raw.ext\"],\n",
    "                   [\"data/raw.ext\"],\n",
    "                   [\"data/clean.json\", \"model/model.pkl\"],\n",
    "                   [\"data/clean.json\", \"model/model.pkl\"]],\n",
    "    \"outputs\":    [[\"data/raw.json\"],\n",
    "                   [\"data/clean.json\"],\n",
    "                   [\"model/model.pkl\", \"data/scores.json\"],\n",
    "                   [\"reports/report.txt\"]],\n",
    "    \"idempotent\": [True, True, True, True],\n",
    "    \"owner\":      [\"data_eng\", \"data_eng\", \"ml_eng\", \"analyst\"],\n",
    "})\n",
    "tasks"
   ]
  },
  {
   "cell_type": "markdown",
   "id": "b8356690-bbc4-4123-a815-b730d3e6fd8e",
   "metadata": {},
   "source": [
    "## 2) Dependencies (DAG)"
   ]
  },
  {
   "cell_type": "code",
   "execution_count": 5,
   "id": "9e0b4742",
   "metadata": {},
   "outputs": [
    {
     "data": {
      "text/plain": [
       "{'ingest': [],\n",
       " 'clean': ['ingest'],\n",
       " 'train_or_score': ['clean'],\n",
       " 'report': ['train_or_score']}"
      ]
     },
     "execution_count": 5,
     "metadata": {},
     "output_type": "execute_result"
    }
   ],
   "source": [
    "# edges: task -> needs these to finish first\n",
    "dag = {\n",
    "    \"ingest\": [],\n",
    "    \"clean\": [\"ingest\"],\n",
    "    \"train_or_score\": [\"clean\"],\n",
    "    \"report\": [\"train_or_score\"],\n",
    "}\n",
    "dag"
   ]
  },
  {
   "cell_type": "markdown",
   "id": "40836b99-5276-4412-991c-e3e263ec5428",
   "metadata": {},
   "source": [
    "## 3) Logging & Checkpoints Plan"
   ]
  },
  {
   "cell_type": "code",
   "execution_count": 6,
   "id": "df89291c",
   "metadata": {},
   "outputs": [
    {
     "data": {
      "text/html": [
       "<div>\n",
       "<style scoped>\n",
       "    .dataframe tbody tr th:only-of-type {\n",
       "        vertical-align: middle;\n",
       "    }\n",
       "\n",
       "    .dataframe tbody tr th {\n",
       "        vertical-align: top;\n",
       "    }\n",
       "\n",
       "    .dataframe thead th {\n",
       "        text-align: right;\n",
       "    }\n",
       "</style>\n",
       "<table border=\"1\" class=\"dataframe\">\n",
       "  <thead>\n",
       "    <tr style=\"text-align: right;\">\n",
       "      <th></th>\n",
       "      <th>task</th>\n",
       "      <th>log_messages</th>\n",
       "      <th>checkpoint_artifact</th>\n",
       "      <th>retention</th>\n",
       "    </tr>\n",
       "  </thead>\n",
       "  <tbody>\n",
       "    <tr>\n",
       "      <th>0</th>\n",
       "      <td>ingest</td>\n",
       "      <td>[start/end, rows, source_uri, artifact_path]</td>\n",
       "      <td>data/raw.json</td>\n",
       "      <td>7d</td>\n",
       "    </tr>\n",
       "    <tr>\n",
       "      <th>1</th>\n",
       "      <td>clean</td>\n",
       "      <td>[start/end, rows_in/out, null_pct, artifact_path]</td>\n",
       "      <td>data/clean.json</td>\n",
       "      <td>14d</td>\n",
       "    </tr>\n",
       "    <tr>\n",
       "      <th>2</th>\n",
       "      <td>train_or_score</td>\n",
       "      <td>[start/end, params, metric/score, artifact_path]</td>\n",
       "      <td>data/scores.json</td>\n",
       "      <td>30d</td>\n",
       "    </tr>\n",
       "    <tr>\n",
       "      <th>3</th>\n",
       "      <td>report</td>\n",
       "      <td>[start/end, rows_in, summary_path, artifact_path]</td>\n",
       "      <td>reports/report.txt</td>\n",
       "      <td>90d</td>\n",
       "    </tr>\n",
       "  </tbody>\n",
       "</table>\n",
       "</div>"
      ],
      "text/plain": [
       "             task                                       log_messages  \\\n",
       "0          ingest       [start/end, rows, source_uri, artifact_path]   \n",
       "1           clean  [start/end, rows_in/out, null_pct, artifact_path]   \n",
       "2  train_or_score   [start/end, params, metric/score, artifact_path]   \n",
       "3          report  [start/end, rows_in, summary_path, artifact_path]   \n",
       "\n",
       "  checkpoint_artifact retention  \n",
       "0       data/raw.json        7d  \n",
       "1     data/clean.json       14d  \n",
       "2    data/scores.json       30d  \n",
       "3  reports/report.txt       90d  "
      ]
     },
     "execution_count": 6,
     "metadata": {},
     "output_type": "execute_result"
    }
   ],
   "source": [
    "import pandas as pd\n",
    "\n",
    "logging_plan = pd.DataFrame({\n",
    "    \"task\": [\"ingest\",\"clean\",\"train_or_score\",\"report\"],\n",
    "    \"log_messages\": [\n",
    "        [\"start/end\",\"rows\",\"source_uri\",\"artifact_path\"],\n",
    "        [\"start/end\",\"rows_in/out\",\"null_pct\",\"artifact_path\"],\n",
    "        [\"start/end\",\"params\",\"metric/score\",\"artifact_path\"],\n",
    "        [\"start/end\",\"rows_in\",\"summary_path\",\"artifact_path\"],\n",
    "    ],\n",
    "    \"checkpoint_artifact\": [\n",
    "        \"data/raw.json\",\n",
    "        \"data/clean.json\",\n",
    "        \"data/scores.json\",\n",
    "        \"reports/report.txt\",\n",
    "    ],\n",
    "    \"retention\": [\"7d\",\"14d\",\"30d\",\"90d\"]\n",
    "})\n",
    "logging_plan"
   ]
  },
  {
   "cell_type": "markdown",
   "id": "a18c72b5-b526-404a-8258-e2ad451f11b9",
   "metadata": {},
   "source": [
    "## 4) Right-Sizing Automation"
   ]
  },
  {
   "cell_type": "markdown",
   "id": "ca53fd69-4f6c-4ccc-9317-138cc2b3772b",
   "metadata": {},
   "source": [
    "Automate now: ingest, clean, train_or_score — deterministic, idempotent steps that can run daily via a simple scheduler (cron/GitHub Actions).\n",
    "Keep manual (for now): report — reviewed weekly so we can add commentary/QA before sharing.\n",
    "Why: upstream steps have clear I/O contracts and low review needs; the report is stakeholder-facing and benefits from a human check. We’ll automate it later once feedback stabilizes.\n",
    "Logging/alerts: task-level logs to file + console; on error, notify Slack/email; artifacts saved as checkpoints under data/ / model/ / reports/."
   ]
  }
 ],
 "metadata": {
  "kernelspec": {
   "display_name": "Python 3 (ipykernel)",
   "language": "python",
   "name": "python3"
  },
  "language_info": {
   "codemirror_mode": {
    "name": "ipython",
    "version": 3
   },
   "file_extension": ".py",
   "mimetype": "text/x-python",
   "name": "python",
   "nbconvert_exporter": "python",
   "pygments_lexer": "ipython3",
   "version": "3.13.5"
  }
 },
 "nbformat": 4,
 "nbformat_minor": 5
}
