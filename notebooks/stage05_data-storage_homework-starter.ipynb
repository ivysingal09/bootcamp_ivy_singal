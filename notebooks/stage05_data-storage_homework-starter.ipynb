{
 "cells": [
  {
   "cell_type": "markdown",
   "id": "a595151f",
   "metadata": {},
   "source": [
    "# Homework Starter — Stage 05: Data Storage\n",
    "Name: \n",
    "Date: \n",
    "\n",
    "Objectives:\n",
    "- Env-driven paths to `data/raw/` and `data/processed/`\n",
    "- Save CSV and Parquet; reload and validate\n",
    "- Abstract IO with utility functions; document choices"
   ]
  },
  {
   "cell_type": "code",
   "execution_count": null,
   "id": "c93aebb6",
   "metadata": {},
   "outputs": [],
   "source": [
    "import os, pathlib, datetime as dt\n",
    "import pandas as pd\n",
    "from dotenv import load_dotenv\n",
    "\n",
    "load_dotenv()\n",
    "RAW = pathlib.Path(os.getenv('DATA_DIR_RAW', 'data/raw'))\n",
    "PROC = pathlib.Path(os.getenv('DATA_DIR_PROCESSED', 'data/processed'))\n",
    "RAW.mkdir(parents=True, exist_ok=True)\n",
    "PROC.mkdir(parents=True, exist_ok=True)\n",
    "print('RAW ->', RAW.resolve())\n",
    "print('PROC ->', PROC.resolve())"
   ]
  },
  {
   "cell_type": "markdown",
   "id": "fd006c1d",
   "metadata": {},
   "source": [
    "## 1) Create or Load a Sample DataFrame\n",
    "You may reuse data from prior stages or create a small synthetic dataset."
   ]
  },
  {
   "cell_type": "code",
   "execution_count": null,
   "id": "7acc3925",
   "metadata": {},
   "outputs": [],
   "source": [
    "import numpy as np\n",
    "dates = pd.date_range('2024-01-01', periods=20, freq='D')\n",
    "df = pd.DataFrame({'date': dates, 'ticker': ['AAPL']*20, 'price': 150 + np.random.randn(20).cumsum()})\n",
    "df.head()"
   ]
  },
  {
   "cell_type": "markdown",
   "id": "a7bee3a0",
   "metadata": {},
   "source": [
    "## 2) Save CSV to data/raw/ and Parquet to data/processed/ (TODO)\n",
    "- Use timestamped filenames.\n",
    "- Handle missing Parquet engine gracefully."
   ]
  },
  {
   "cell_type": "code",
   "execution_count": null,
   "id": "2fd87daa",
   "metadata": {},
   "outputs": [],
   "source": [
    "def ts(): return dt.datetime.now().strftime('%Y%m%d-%H%M%S')\n",
    "\n",
    "# TODO: Save CSV\n",
    "csv_path = RAW / f\"sample_{ts()}.csv\"\n",
    "df.to_csv(csv_path, index=False)\n",
    "csv_path\n",
    "\n",
    "# TODO: Save Parquet\n",
    "pq_path = PROC / f\"sample_{ts()}.parquet\"\n",
    "try:\n",
    "    df.to_parquet(pq_path)\n",
    "except Exception as e:\n",
    "    print('Parquet engine not available. Install pyarrow or fastparquet to complete this step.')\n",
    "    pq_path = None\n",
    "pq_path"
   ]
  },
  {
   "cell_type": "markdown",
   "id": "fa387486",
   "metadata": {},
   "source": [
    "## 3) Reload and Validate (TODO)\n",
    "- Compare shapes and key dtypes."
   ]
  },
  {
   "cell_type": "code",
   "execution_count": null,
   "id": "8935ceac",
   "metadata": {},
   "outputs": [],
   "source": [
    "def validate_loaded(original, reloaded):\n",
    "    checks = {\n",
    "        'shape_equal': original.shape == reloaded.shape,\n",
    "        'date_is_datetime': pd.api.types.is_datetime64_any_dtype(reloaded['date']) if 'date' in reloaded.columns else False,\n",
    "        'price_is_numeric': pd.api.types.is_numeric_dtype(reloaded['price']) if 'price' in reloaded.columns else False,\n",
    "    }\n",
    "    return checks\n",
    "\n",
    "df_csv = pd.read_csv(csv_path, parse_dates=['date'])\n",
    "validate_loaded(df, df_csv)"
   ]
  },
  {
   "cell_type": "code",
   "execution_count": null,
   "id": "34132bc4",
   "metadata": {},
   "outputs": [],
   "source": [
    "if pq_path:\n",
    "    try:\n",
    "        df_pq = pd.read_parquet(pq_path)\n",
    "        validate_loaded(df, df_pq)\n",
    "    except Exception as e:\n",
    "        print('Parquet read failed:', e)"
   ]
  },
  {
   "cell_type": "markdown",
   "id": "27ca0134",
   "metadata": {},
   "source": [
    "## 4) Utilities (TODO)\n",
    "- Implement `detect_format`, `write_df`, `read_df`.\n",
    "- Use suffix to route; create parent dirs if needed; friendly errors for Parquet."
   ]
  },
  {
   "cell_type": "code",
   "execution_count": null,
   "id": "3d4db603",
   "metadata": {},
   "outputs": [],
   "source": [
    "import typing as t, pathlib\n",
    "\n",
    "def detect_format(path: t.Union[str, pathlib.Path]):\n",
    "    s = str(path).lower()\n",
    "    if s.endswith('.csv'): return 'csv'\n",
    "    if s.endswith('.parquet') or s.endswith('.pq') or s.endswith('.parq'): return 'parquet'\n",
    "    raise ValueError('Unsupported format: ' + s)\n",
    "\n",
    "def write_df(df: pd.DataFrame, path: t.Union[str, pathlib.Path]):\n",
    "    p = pathlib.Path(path); p.parent.mkdir(parents=True, exist_ok=True)\n",
    "    fmt = detect_format(p)\n",
    "    if fmt == 'csv':\n",
    "        df.to_csv(p, index=False)\n",
    "    else:\n",
    "        try:\n",
    "            df.to_parquet(p)\n",
    "        except Exception as e:\n",
    "            raise RuntimeError('Parquet engine not available. Install pyarrow or fastparquet.') from e\n",
    "    return p\n",
    "\n",
    "def read_df(path: t.Union[str, pathlib.Path]):\n",
    "    p = pathlib.Path(path)\n",
    "    fmt = detect_format(p)\n",
    "    if fmt == 'csv':\n",
    "        return pd.read_csv(p, parse_dates=['date']) if 'date' in pd.read_csv(p, nrows=0).columns else pd.read_csv(p)\n",
    "    else:\n",
    "        try:\n",
    "            return pd.read_parquet(p)\n",
    "        except Exception as e:\n",
    "            raise RuntimeError('Parquet engine not available. Install pyarrow or fastparquet.') from e\n",
    "\n",
    "# Demo\n",
    "p_csv = RAW / f\"util_{ts()}.csv\"\n",
    "p_pq  = PROC / f\"util_{ts()}.parquet\"\n",
    "write_df(df, p_csv); read_df(p_csv).head()\n",
    "try:\n",
    "    write_df(df, p_pq)\n",
    "    read_df(p_pq).head()\n",
    "except RuntimeError as e:\n",
    "    print('Skipping Parquet util demo:', e)"
   ]
  },
  {
   "cell_type": "markdown",
   "id": "f5aa8067",
   "metadata": {},
   "source": [
    "## 5) Documentation (TODO)\n",
    "- Update README with a **Data Storage** section (folders, formats, env usage).\n",
    "- Summarize validation checks and any assumptions."
   ]
  },
  {
   "cell_type": "code",
   "execution_count": 1,
   "id": "ca6bd58f-8484-40fc-ba92-d5bb6fdcb590",
   "metadata": {},
   "outputs": [
    {
     "name": "stdout",
     "output_type": "stream",
     "text": [
      "Moved working directory up to repo root:\n",
      "CWD = /Users/ivysingal/bootcamp_ivy_singal\n",
      "✓ ensured folder: data/raw exists = True\n",
      "✓ ensured folder: data/processed exists = True\n"
     ]
    }
   ],
   "source": [
    "import os\n",
    "from pathlib import Path\n",
    "\n",
    "# 1) Move to the repo root even if the notebook launched inside /notebooks\n",
    "cwd = Path.cwd()\n",
    "if cwd.name == \"notebooks\":\n",
    "    os.chdir(cwd.parent)\n",
    "    print(\"Moved working directory up to repo root:\")\n",
    "else:\n",
    "    print(\"Already at repo root:\")\n",
    "print(\"CWD =\", Path.cwd())\n",
    "\n",
    "# 2) Ensure the required data folders exist (safe if they already exist)\n",
    "for p in [Path(\"data/raw\"), Path(\"data/processed\")]:\n",
    "    p.mkdir(parents=True, exist_ok=True)\n",
    "    print(\"✓ ensured folder:\", p, \"exists =\", p.exists())"
   ]
  },
  {
   "cell_type": "code",
   "execution_count": 4,
   "id": "7d781bf4-51f8-49c4-aadd-cbeda78e2320",
   "metadata": {},
   "outputs": [
    {
     "name": "stdout",
     "output_type": "stream",
     "text": [
      "Installed/updated pandas, pyarrow, fastparquet, python-dotenv\n"
     ]
    }
   ],
   "source": [
    "!pip install --upgrade pandas pyarrow fastparquet python-dotenv -q\n",
    "print(\"Installed/updated pandas, pyarrow, fastparquet, python-dotenv\")"
   ]
  },
  {
   "cell_type": "code",
   "execution_count": 2,
   "id": "2001914f-b0c8-47a6-9c88-2471e5f56c1b",
   "metadata": {},
   "outputs": [
    {
     "name": "stdout",
     "output_type": "stream",
     "text": [
      "Files saved:\n",
      " - /Users/ivysingal/bootcamp_ivy_singal/data/raw/example.csv\n",
      " - /Users/ivysingal/bootcamp_ivy_singal/data/processed/example.parquet\n"
     ]
    }
   ],
   "source": [
    "import os\n",
    "from pathlib import Path\n",
    "import pandas as pd\n",
    "from dotenv import load_dotenv\n",
    "\n",
    "load_dotenv()  # reads .env at the repo root\n",
    "\n",
    "# Resolve directories from env with safe defaults\n",
    "raw_dir = Path(os.getenv(\"DATA_DIR_RAW\") or \"data/raw\")\n",
    "processed_dir = Path(os.getenv(\"DATA_DIR_PROCESSED\") or \"data/processed\")\n",
    "\n",
    "# tiny sample dataframe\n",
    "df = pd.DataFrame({\"id\":[1,2,3], \"name\":[\"Alice\",\"Bob\",\"Charlie\"]})\n",
    "\n",
    "csv_path = raw_dir / \"example.csv\"\n",
    "parquet_path = processed_dir / \"example.parquet\"\n",
    "\n",
    "# CSV is straightforward\n",
    "df.to_csv(csv_path, index=False)\n",
    "\n",
    "# Parquet: try pyarrow, else fastparquet\n",
    "try:\n",
    "    df.to_parquet(parquet_path, index=False, engine=\"pyarrow\")\n",
    "except Exception as e1:\n",
    "    print(\"pyarrow failed, trying fastparquet…\", type(e1).__name__, \"-\", e1)\n",
    "    df.to_parquet(parquet_path, index=False, engine=\"fastparquet\")\n",
    "\n",
    "print(\"Files saved:\")\n",
    "print(\" -\", csv_path.resolve())\n",
    "print(\" -\", parquet_path.resolve())"
   ]
  },
  {
   "cell_type": "code",
   "execution_count": 3,
   "id": "82bb058b-519a-455d-814e-a8094d7967bd",
   "metadata": {},
   "outputs": [
    {
     "name": "stdout",
     "output_type": "stream",
     "text": [
      "CSV shape: (3, 2)\n",
      "Parquet shape: (3, 2)\n"
     ]
    },
    {
     "data": {
      "text/html": [
       "<div>\n",
       "<style scoped>\n",
       "    .dataframe tbody tr th:only-of-type {\n",
       "        vertical-align: middle;\n",
       "    }\n",
       "\n",
       "    .dataframe tbody tr th {\n",
       "        vertical-align: top;\n",
       "    }\n",
       "\n",
       "    .dataframe thead th {\n",
       "        text-align: right;\n",
       "    }\n",
       "</style>\n",
       "<table border=\"1\" class=\"dataframe\">\n",
       "  <thead>\n",
       "    <tr style=\"text-align: right;\">\n",
       "      <th></th>\n",
       "      <th>id</th>\n",
       "      <th>name</th>\n",
       "    </tr>\n",
       "  </thead>\n",
       "  <tbody>\n",
       "    <tr>\n",
       "      <th>0</th>\n",
       "      <td>1</td>\n",
       "      <td>Alice</td>\n",
       "    </tr>\n",
       "    <tr>\n",
       "      <th>1</th>\n",
       "      <td>2</td>\n",
       "      <td>Bob</td>\n",
       "    </tr>\n",
       "    <tr>\n",
       "      <th>2</th>\n",
       "      <td>3</td>\n",
       "      <td>Charlie</td>\n",
       "    </tr>\n",
       "  </tbody>\n",
       "</table>\n",
       "</div>"
      ],
      "text/plain": [
       "   id     name\n",
       "0   1    Alice\n",
       "1   2      Bob\n",
       "2   3  Charlie"
      ]
     },
     "metadata": {},
     "output_type": "display_data"
    },
    {
     "data": {
      "text/html": [
       "<div>\n",
       "<style scoped>\n",
       "    .dataframe tbody tr th:only-of-type {\n",
       "        vertical-align: middle;\n",
       "    }\n",
       "\n",
       "    .dataframe tbody tr th {\n",
       "        vertical-align: top;\n",
       "    }\n",
       "\n",
       "    .dataframe thead th {\n",
       "        text-align: right;\n",
       "    }\n",
       "</style>\n",
       "<table border=\"1\" class=\"dataframe\">\n",
       "  <thead>\n",
       "    <tr style=\"text-align: right;\">\n",
       "      <th></th>\n",
       "      <th>id</th>\n",
       "      <th>name</th>\n",
       "    </tr>\n",
       "  </thead>\n",
       "  <tbody>\n",
       "    <tr>\n",
       "      <th>0</th>\n",
       "      <td>1</td>\n",
       "      <td>Alice</td>\n",
       "    </tr>\n",
       "    <tr>\n",
       "      <th>1</th>\n",
       "      <td>2</td>\n",
       "      <td>Bob</td>\n",
       "    </tr>\n",
       "    <tr>\n",
       "      <th>2</th>\n",
       "      <td>3</td>\n",
       "      <td>Charlie</td>\n",
       "    </tr>\n",
       "  </tbody>\n",
       "</table>\n",
       "</div>"
      ],
      "text/plain": [
       "   id     name\n",
       "0   1    Alice\n",
       "1   2      Bob\n",
       "2   3  Charlie"
      ]
     },
     "metadata": {},
     "output_type": "display_data"
    }
   ],
   "source": [
    "csv_back = pd.read_csv(csv_path)\n",
    "parq_back = pd.read_parquet(parquet_path)\n",
    "\n",
    "print(\"CSV shape:\", csv_back.shape)\n",
    "print(\"Parquet shape:\", parq_back.shape)\n",
    "display(csv_back.head())\n",
    "display(parq_back.head())"
   ]
  },
  {
   "cell_type": "code",
   "execution_count": 4,
   "id": "28ed0b1e-0ee9-49de-8cc3-6e10bab09d6d",
   "metadata": {},
   "outputs": [
    {
     "name": "stdout",
     "output_type": "stream",
     "text": [
      "Using ROOT: /Users/ivysingal/bootcamp_ivy_singal\n",
      "CSV path: /Users/ivysingal/bootcamp_ivy_singal/data/raw/example.csv\n",
      "Parquet path: /Users/ivysingal/bootcamp_ivy_singal/data/processed/example.parquet\n",
      "Exists? CSV: True  Parquet: True\n",
      "Loaded shapes -> CSV: (3, 2)  Parquet: (3, 2)\n",
      "✅ Data matches between CSV and Parquet.\n"
     ]
    },
    {
     "data": {
      "text/html": [
       "<div>\n",
       "<style scoped>\n",
       "    .dataframe tbody tr th:only-of-type {\n",
       "        vertical-align: middle;\n",
       "    }\n",
       "\n",
       "    .dataframe tbody tr th {\n",
       "        vertical-align: top;\n",
       "    }\n",
       "\n",
       "    .dataframe thead th {\n",
       "        text-align: right;\n",
       "    }\n",
       "</style>\n",
       "<table border=\"1\" class=\"dataframe\">\n",
       "  <thead>\n",
       "    <tr style=\"text-align: right;\">\n",
       "      <th></th>\n",
       "      <th>id</th>\n",
       "      <th>name</th>\n",
       "    </tr>\n",
       "  </thead>\n",
       "  <tbody>\n",
       "    <tr>\n",
       "      <th>0</th>\n",
       "      <td>1</td>\n",
       "      <td>Alice</td>\n",
       "    </tr>\n",
       "    <tr>\n",
       "      <th>1</th>\n",
       "      <td>2</td>\n",
       "      <td>Bob</td>\n",
       "    </tr>\n",
       "    <tr>\n",
       "      <th>2</th>\n",
       "      <td>3</td>\n",
       "      <td>Charlie</td>\n",
       "    </tr>\n",
       "  </tbody>\n",
       "</table>\n",
       "</div>"
      ],
      "text/plain": [
       "   id     name\n",
       "0   1    Alice\n",
       "1   2      Bob\n",
       "2   3  Charlie"
      ]
     },
     "metadata": {},
     "output_type": "display_data"
    },
    {
     "data": {
      "text/html": [
       "<div>\n",
       "<style scoped>\n",
       "    .dataframe tbody tr th:only-of-type {\n",
       "        vertical-align: middle;\n",
       "    }\n",
       "\n",
       "    .dataframe tbody tr th {\n",
       "        vertical-align: top;\n",
       "    }\n",
       "\n",
       "    .dataframe thead th {\n",
       "        text-align: right;\n",
       "    }\n",
       "</style>\n",
       "<table border=\"1\" class=\"dataframe\">\n",
       "  <thead>\n",
       "    <tr style=\"text-align: right;\">\n",
       "      <th></th>\n",
       "      <th>id</th>\n",
       "      <th>name</th>\n",
       "    </tr>\n",
       "  </thead>\n",
       "  <tbody>\n",
       "    <tr>\n",
       "      <th>0</th>\n",
       "      <td>1</td>\n",
       "      <td>Alice</td>\n",
       "    </tr>\n",
       "    <tr>\n",
       "      <th>1</th>\n",
       "      <td>2</td>\n",
       "      <td>Bob</td>\n",
       "    </tr>\n",
       "    <tr>\n",
       "      <th>2</th>\n",
       "      <td>3</td>\n",
       "      <td>Charlie</td>\n",
       "    </tr>\n",
       "  </tbody>\n",
       "</table>\n",
       "</div>"
      ],
      "text/plain": [
       "   id     name\n",
       "0   1    Alice\n",
       "1   2      Bob\n",
       "2   3  Charlie"
      ]
     },
     "metadata": {},
     "output_type": "display_data"
    }
   ],
   "source": [
    "# ---- Stage 05 • Robust reload of example.csv/parquet ----\n",
    "from pathlib import Path\n",
    "import os, importlib.util\n",
    "import pandas as pd\n",
    "\n",
    "# 1) Detect project root (folder that contains /data)\n",
    "ROOT = Path.cwd()\n",
    "if not (ROOT / \"data\").exists():\n",
    "    # notebook likely running from /notebooks — try parent\n",
    "    if (ROOT.parent / \"data\").exists():\n",
    "        ROOT = ROOT.parent\n",
    "    else:\n",
    "        # climb up a couple of levels just in case\n",
    "        for up in [ROOT.parent, ROOT.parent.parent]:\n",
    "            if (up / \"data\").exists():\n",
    "                ROOT = up\n",
    "                break\n",
    "print(\"Using ROOT:\", ROOT)\n",
    "\n",
    "# 2) Resolve env-driven dirs relative to ROOT\n",
    "DATA_DIR_RAW = ROOT / os.getenv(\"DATA_DIR_RAW\", \"data/raw\")\n",
    "DATA_DIR_PROCESSED = ROOT / os.getenv(\"DATA_DIR_PROCESSED\", \"data/processed\")\n",
    "\n",
    "csv_path = DATA_DIR_RAW / \"example.csv\"\n",
    "parquet_path = DATA_DIR_PROCESSED / \"example.parquet\"\n",
    "\n",
    "print(\"CSV path:\", csv_path)\n",
    "print(\"Parquet path:\", parquet_path)\n",
    "print(\"Exists? CSV:\", csv_path.exists(), \" Parquet:\", parquet_path.exists())\n",
    "\n",
    "# 3) Helpful hint if file isn't found locally (e.g., not pulled from Git)\n",
    "if not parquet_path.exists():\n",
    "    raise FileNotFoundError(\n",
    "        f\"Couldn't find {parquet_path}. If you see it on GitHub, make sure \"\n",
    "        f\"your local repo has the latest changes (e.g., run `git pull` in the repo).\"\n",
    "    )\n",
    "\n",
    "# 4) Read CSV and Parquet\n",
    "df_csv = pd.read_csv(csv_path)\n",
    "\n",
    "engine = \"pyarrow\" if importlib.util.find_spec(\"pyarrow\") else (\n",
    "    \"fastparquet\" if importlib.util.find_spec(\"fastparquet\") else None\n",
    ")\n",
    "if engine is None:\n",
    "    raise RuntimeError(\"Install pyarrow or fastparquet:  %pip install pyarrow\")\n",
    "\n",
    "df_parquet = pd.read_parquet(parquet_path, engine=engine)\n",
    "\n",
    "print(\"Loaded shapes -> CSV:\", df_csv.shape, \" Parquet:\", df_parquet.shape)\n",
    "\n",
    "# 5) Quick equality check (ignore column order & dtype)\n",
    "from pandas.testing import assert_frame_equal\n",
    "try:\n",
    "    assert_frame_equal(\n",
    "        df_csv.reindex(sorted(df_csv.columns), axis=1).reset_index(drop=True),\n",
    "        df_parquet.reindex(sorted(df_parquet.columns), axis=1).reset_index(drop=True),\n",
    "        check_like=True,\n",
    "        check_dtype=False\n",
    "    )\n",
    "    print(\"✅ Data matches between CSV and Parquet.\")\n",
    "except AssertionError as e:\n",
    "    print(\"❌ Data mismatch:\\n\", e)\n",
    "\n",
    "display(df_csv.head())\n",
    "display(df_parquet.head())"
   ]
  },
  {
   "cell_type": "code",
   "execution_count": 5,
   "id": "1daa4f27-b131-4580-86f3-be6a39d5c068",
   "metadata": {},
   "outputs": [
    {
     "name": "stdout",
     "output_type": "stream",
     "text": [
      "File sizes (KB):\n",
      "CSV                   0.03  -  data/raw/example.csv\n",
      "CSV (gzip)            0.07  -  data/raw/example.csv.gz\n",
      "Parquet               1.62  -  data/processed/example.parquet\n",
      "Parquet (snappy)      1.62  -  data/processed/example.snappy.parquet\n",
      "\n",
      "Takeaways:\n",
      "- CSV / Parquet (plain) size ratio: 0.02x\n",
      "- CSV.gz / Parquet.snappy size ratio: 0.04x\n"
     ]
    }
   ],
   "source": [
    "# ---- Stage 05 • Compression & Size Comparison ----\n",
    "from pathlib import Path\n",
    "import os, importlib.util\n",
    "import pandas as pd\n",
    "\n",
    "ROOT = Path.cwd()\n",
    "if not (ROOT / \"data\").exists():\n",
    "    if (ROOT.parent / \"data\").exists():\n",
    "        ROOT = ROOT.parent\n",
    "DATA_DIR_RAW = ROOT / os.getenv(\"DATA_DIR_RAW\", \"data/raw\")\n",
    "DATA_DIR_PROCESSED = ROOT / os.getenv(\"DATA_DIR_PROCESSED\", \"data/processed\")\n",
    "\n",
    "csv_path = DATA_DIR_RAW / \"example.csv\"\n",
    "parquet_path = DATA_DIR_PROCESSED / \"example.parquet\"\n",
    "\n",
    "# load CSV (already verified in Step 3)\n",
    "df_csv = pd.read_csv(csv_path)\n",
    "\n",
    "# pick a parquet engine\n",
    "engine = \"pyarrow\" if importlib.util.find_spec(\"pyarrow\") else (\n",
    "    \"fastparquet\" if importlib.util.find_spec(\"fastparquet\") else None\n",
    ")\n",
    "if engine is None:\n",
    "    raise RuntimeError(\"Install 'pyarrow' or 'fastparquet' and re-run this cell.\")\n",
    "\n",
    "# compressed variants\n",
    "csv_gz_path = DATA_DIR_RAW / \"example.csv.gz\"\n",
    "parquet_snappy_path = DATA_DIR_PROCESSED / \"example.snappy.parquet\"\n",
    "\n",
    "# write compressed versions\n",
    "df_csv.to_csv(csv_gz_path, index=False, compression=\"gzip\")\n",
    "df_csv.to_parquet(parquet_snappy_path, index=False, engine=engine, compression=\"snappy\")\n",
    "\n",
    "def size_kb(p: Path) -> float:\n",
    "    return os.path.getsize(p) / 1024\n",
    "\n",
    "rows = [\n",
    "    (\"CSV\", str(csv_path.relative_to(ROOT)), size_kb(csv_path)),\n",
    "    (\"CSV (gzip)\", str(csv_gz_path.relative_to(ROOT)), size_kb(csv_gz_path)),\n",
    "    (\"Parquet\", str(parquet_path.relative_to(ROOT)), size_kb(parquet_path)),\n",
    "    (\"Parquet (snappy)\", str(parquet_snappy_path.relative_to(ROOT)), size_kb(parquet_snappy_path)),\n",
    "]\n",
    "\n",
    "print(\"File sizes (KB):\")\n",
    "for kind, path, kb in rows:\n",
    "    print(f\"{kind:17s} {kb:8.2f}  -  {path}\")\n",
    "\n",
    "# quick takeaway\n",
    "plain_ratio = size_kb(csv_path) / max(size_kb(parquet_path), 1e-9)\n",
    "snappy_ratio = size_kb(csv_gz_path) / max(size_kb(parquet_snappy_path), 1e-9)\n",
    "print(\"\\nTakeaways:\")\n",
    "print(f\"- CSV / Parquet (plain) size ratio: {plain_ratio:.2f}x\")\n",
    "print(f\"- CSV.gz / Parquet.snappy size ratio: {snappy_ratio:.2f}x\")"
   ]
  },
  {
   "cell_type": "code",
   "execution_count": null,
   "id": "c5f4b2ca-ce49-4a4d-9058-d30e735f920b",
   "metadata": {},
   "outputs": [],
   "source": []
  }
 ],
 "metadata": {
  "kernelspec": {
   "display_name": "Python 3 (ipykernel)",
   "language": "python",
   "name": "python3"
  },
  "language_info": {
   "codemirror_mode": {
    "name": "ipython",
    "version": 3
   },
   "file_extension": ".py",
   "mimetype": "text/x-python",
   "name": "python",
   "nbconvert_exporter": "python",
   "pygments_lexer": "ipython3",
   "version": "3.13.5"
  }
 },
 "nbformat": 4,
 "nbformat_minor": 5
}
