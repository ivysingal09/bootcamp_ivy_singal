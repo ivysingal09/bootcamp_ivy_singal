{
 "cells": [
  {
   "cell_type": "markdown",
   "id": "a595151f",
   "metadata": {},
   "source": [
    "# Homework Starter — Stage 05: Data Storage\n",
    "Name: \n",
    "Date: \n",
    "\n",
    "Objectives:\n",
    "- Env-driven paths to `data/raw/` and `data/processed/`\n",
    "- Save CSV and Parquet; reload and validate\n",
    "- Abstract IO with utility functions; document choices"
   ]
  },
  {
   "cell_type": "code",
   "execution_count": null,
   "id": "c93aebb6",
   "metadata": {},
   "outputs": [],
   "source": [
    "import os, pathlib, datetime as dt\n",
    "import pandas as pd\n",
    "from dotenv import load_dotenv\n",
    "\n",
    "load_dotenv()\n",
    "RAW = pathlib.Path(os.getenv('DATA_DIR_RAW', 'data/raw'))\n",
    "PROC = pathlib.Path(os.getenv('DATA_DIR_PROCESSED', 'data/processed'))\n",
    "RAW.mkdir(parents=True, exist_ok=True)\n",
    "PROC.mkdir(parents=True, exist_ok=True)\n",
    "print('RAW ->', RAW.resolve())\n",
    "print('PROC ->', PROC.resolve())"
   ]
  },
  {
   "cell_type": "markdown",
   "id": "fd006c1d",
   "metadata": {},
   "source": [
    "## 1) Create or Load a Sample DataFrame\n",
    "You may reuse data from prior stages or create a small synthetic dataset."
   ]
  },
  {
   "cell_type": "code",
   "execution_count": null,
   "id": "7acc3925",
   "metadata": {},
   "outputs": [],
   "source": [
    "import numpy as np\n",
    "dates = pd.date_range('2024-01-01', periods=20, freq='D')\n",
    "df = pd.DataFrame({'date': dates, 'ticker': ['AAPL']*20, 'price': 150 + np.random.randn(20).cumsum()})\n",
    "df.head()"
   ]
  },
  {
   "cell_type": "markdown",
   "id": "a7bee3a0",
   "metadata": {},
   "source": [
    "## 2) Save CSV to data/raw/ and Parquet to data/processed/ (TODO)\n",
    "- Use timestamped filenames.\n",
    "- Handle missing Parquet engine gracefully."
   ]
  },
  {
   "cell_type": "code",
   "execution_count": null,
   "id": "2fd87daa",
   "metadata": {},
   "outputs": [],
   "source": [
    "def ts(): return dt.datetime.now().strftime('%Y%m%d-%H%M%S')\n",
    "\n",
    "# TODO: Save CSV\n",
    "csv_path = RAW / f\"sample_{ts()}.csv\"\n",
    "df.to_csv(csv_path, index=False)\n",
    "csv_path\n",
    "\n",
    "# TODO: Save Parquet\n",
    "pq_path = PROC / f\"sample_{ts()}.parquet\"\n",
    "try:\n",
    "    df.to_parquet(pq_path)\n",
    "except Exception as e:\n",
    "    print('Parquet engine not available. Install pyarrow or fastparquet to complete this step.')\n",
    "    pq_path = None\n",
    "pq_path"
   ]
  },
  {
   "cell_type": "markdown",
   "id": "fa387486",
   "metadata": {},
   "source": [
    "## 3) Reload and Validate (TODO)\n",
    "- Compare shapes and key dtypes."
   ]
  },
  {
   "cell_type": "code",
   "execution_count": null,
   "id": "8935ceac",
   "metadata": {},
   "outputs": [],
   "source": [
    "def validate_loaded(original, reloaded):\n",
    "    checks = {\n",
    "        'shape_equal': original.shape == reloaded.shape,\n",
    "        'date_is_datetime': pd.api.types.is_datetime64_any_dtype(reloaded['date']) if 'date' in reloaded.columns else False,\n",
    "        'price_is_numeric': pd.api.types.is_numeric_dtype(reloaded['price']) if 'price' in reloaded.columns else False,\n",
    "    }\n",
    "    return checks\n",
    "\n",
    "df_csv = pd.read_csv(csv_path, parse_dates=['date'])\n",
    "validate_loaded(df, df_csv)"
   ]
  },
  {
   "cell_type": "code",
   "execution_count": null,
   "id": "34132bc4",
   "metadata": {},
   "outputs": [],
   "source": [
    "if pq_path:\n",
    "    try:\n",
    "        df_pq = pd.read_parquet(pq_path)\n",
    "        validate_loaded(df, df_pq)\n",
    "    except Exception as e:\n",
    "        print('Parquet read failed:', e)"
   ]
  },
  {
   "cell_type": "markdown",
   "id": "27ca0134",
   "metadata": {},
   "source": [
    "## 4) Utilities (TODO)\n",
    "- Implement `detect_format`, `write_df`, `read_df`.\n",
    "- Use suffix to route; create parent dirs if needed; friendly errors for Parquet."
   ]
  },
  {
   "cell_type": "code",
   "execution_count": null,
   "id": "3d4db603",
   "metadata": {},
   "outputs": [],
   "source": [
    "import typing as t, pathlib\n",
    "\n",
    "def detect_format(path: t.Union[str, pathlib.Path]):\n",
    "    s = str(path).lower()\n",
    "    if s.endswith('.csv'): return 'csv'\n",
    "    if s.endswith('.parquet') or s.endswith('.pq') or s.endswith('.parq'): return 'parquet'\n",
    "    raise ValueError('Unsupported format: ' + s)\n",
    "\n",
    "def write_df(df: pd.DataFrame, path: t.Union[str, pathlib.Path]):\n",
    "    p = pathlib.Path(path); p.parent.mkdir(parents=True, exist_ok=True)\n",
    "    fmt = detect_format(p)\n",
    "    if fmt == 'csv':\n",
    "        df.to_csv(p, index=False)\n",
    "    else:\n",
    "        try:\n",
    "            df.to_parquet(p)\n",
    "        except Exception as e:\n",
    "            raise RuntimeError('Parquet engine not available. Install pyarrow or fastparquet.') from e\n",
    "    return p\n",
    "\n",
    "def read_df(path: t.Union[str, pathlib.Path]):\n",
    "    p = pathlib.Path(path)\n",
    "    fmt = detect_format(p)\n",
    "    if fmt == 'csv':\n",
    "        return pd.read_csv(p, parse_dates=['date']) if 'date' in pd.read_csv(p, nrows=0).columns else pd.read_csv(p)\n",
    "    else:\n",
    "        try:\n",
    "            return pd.read_parquet(p)\n",
    "        except Exception as e:\n",
    "            raise RuntimeError('Parquet engine not available. Install pyarrow or fastparquet.') from e\n",
    "\n",
    "# Demo\n",
    "p_csv = RAW / f\"util_{ts()}.csv\"\n",
    "p_pq  = PROC / f\"util_{ts()}.parquet\"\n",
    "write_df(df, p_csv); read_df(p_csv).head()\n",
    "try:\n",
    "    write_df(df, p_pq)\n",
    "    read_df(p_pq).head()\n",
    "except RuntimeError as e:\n",
    "    print('Skipping Parquet util demo:', e)"
   ]
  },
  {
   "cell_type": "markdown",
   "id": "f5aa8067",
   "metadata": {},
   "source": [
    "## 5) Documentation (TODO)\n",
    "- Update README with a **Data Storage** section (folders, formats, env usage).\n",
    "- Summarize validation checks and any assumptions."
   ]
  },
  {
   "cell_type": "code",
   "execution_count": 1,
   "id": "ca6bd58f-8484-40fc-ba92-d5bb6fdcb590",
   "metadata": {},
   "outputs": [
    {
     "name": "stdout",
     "output_type": "stream",
     "text": [
      "Moved working directory up to repo root:\n",
      "CWD = /Users/ivysingal/bootcamp_ivy_singal\n",
      "✓ ensured folder: data/raw exists = True\n",
      "✓ ensured folder: data/processed exists = True\n"
     ]
    }
   ],
   "source": [
    "import os\n",
    "from pathlib import Path\n",
    "\n",
    "# 1) Move to the repo root even if the notebook launched inside /notebooks\n",
    "cwd = Path.cwd()\n",
    "if cwd.name == \"notebooks\":\n",
    "    os.chdir(cwd.parent)\n",
    "    print(\"Moved working directory up to repo root:\")\n",
    "else:\n",
    "    print(\"Already at repo root:\")\n",
    "print(\"CWD =\", Path.cwd())\n",
    "\n",
    "# 2) Ensure the required data folders exist (safe if they already exist)\n",
    "for p in [Path(\"data/raw\"), Path(\"data/processed\")]:\n",
    "    p.mkdir(parents=True, exist_ok=True)\n",
    "    print(\"✓ ensured folder:\", p, \"exists =\", p.exists())"
   ]
  },
  {
   "cell_type": "code",
   "execution_count": 4,
   "id": "7d781bf4-51f8-49c4-aadd-cbeda78e2320",
   "metadata": {},
   "outputs": [
    {
     "name": "stdout",
     "output_type": "stream",
     "text": [
      "Installed/updated pandas, pyarrow, fastparquet, python-dotenv\n"
     ]
    }
   ],
   "source": [
    "!pip install --upgrade pandas pyarrow fastparquet python-dotenv -q\n",
    "print(\"Installed/updated pandas, pyarrow, fastparquet, python-dotenv\")"
   ]
  },
  {
   "cell_type": "code",
   "execution_count": 2,
   "id": "2001914f-b0c8-47a6-9c88-2471e5f56c1b",
   "metadata": {},
   "outputs": [
    {
     "name": "stdout",
     "output_type": "stream",
     "text": [
      "Files saved:\n",
      " - /Users/ivysingal/bootcamp_ivy_singal/data/raw/example.csv\n",
      " - /Users/ivysingal/bootcamp_ivy_singal/data/processed/example.parquet\n"
     ]
    }
   ],
   "source": [
    "import os\n",
    "from pathlib import Path\n",
    "import pandas as pd\n",
    "from dotenv import load_dotenv\n",
    "\n",
    "load_dotenv()  # reads .env at the repo root\n",
    "\n",
    "# Resolve directories from env with safe defaults\n",
    "raw_dir = Path(os.getenv(\"DATA_DIR_RAW\") or \"data/raw\")\n",
    "processed_dir = Path(os.getenv(\"DATA_DIR_PROCESSED\") or \"data/processed\")\n",
    "\n",
    "# tiny sample dataframe\n",
    "df = pd.DataFrame({\"id\":[1,2,3], \"name\":[\"Alice\",\"Bob\",\"Charlie\"]})\n",
    "\n",
    "csv_path = raw_dir / \"example.csv\"\n",
    "parquet_path = processed_dir / \"example.parquet\"\n",
    "\n",
    "# CSV is straightforward\n",
    "df.to_csv(csv_path, index=False)\n",
    "\n",
    "# Parquet: try pyarrow, else fastparquet\n",
    "try:\n",
    "    df.to_parquet(parquet_path, index=False, engine=\"pyarrow\")\n",
    "except Exception as e1:\n",
    "    print(\"pyarrow failed, trying fastparquet…\", type(e1).__name__, \"-\", e1)\n",
    "    df.to_parquet(parquet_path, index=False, engine=\"fastparquet\")\n",
    "\n",
    "print(\"Files saved:\")\n",
    "print(\" -\", csv_path.resolve())\n",
    "print(\" -\", parquet_path.resolve())"
   ]
  },
  {
   "cell_type": "code",
   "execution_count": 3,
   "id": "82bb058b-519a-455d-814e-a8094d7967bd",
   "metadata": {},
   "outputs": [
    {
     "name": "stdout",
     "output_type": "stream",
     "text": [
      "CSV shape: (3, 2)\n",
      "Parquet shape: (3, 2)\n"
     ]
    },
    {
     "data": {
      "text/html": [
       "<div>\n",
       "<style scoped>\n",
       "    .dataframe tbody tr th:only-of-type {\n",
       "        vertical-align: middle;\n",
       "    }\n",
       "\n",
       "    .dataframe tbody tr th {\n",
       "        vertical-align: top;\n",
       "    }\n",
       "\n",
       "    .dataframe thead th {\n",
       "        text-align: right;\n",
       "    }\n",
       "</style>\n",
       "<table border=\"1\" class=\"dataframe\">\n",
       "  <thead>\n",
       "    <tr style=\"text-align: right;\">\n",
       "      <th></th>\n",
       "      <th>id</th>\n",
       "      <th>name</th>\n",
       "    </tr>\n",
       "  </thead>\n",
       "  <tbody>\n",
       "    <tr>\n",
       "      <th>0</th>\n",
       "      <td>1</td>\n",
       "      <td>Alice</td>\n",
       "    </tr>\n",
       "    <tr>\n",
       "      <th>1</th>\n",
       "      <td>2</td>\n",
       "      <td>Bob</td>\n",
       "    </tr>\n",
       "    <tr>\n",
       "      <th>2</th>\n",
       "      <td>3</td>\n",
       "      <td>Charlie</td>\n",
       "    </tr>\n",
       "  </tbody>\n",
       "</table>\n",
       "</div>"
      ],
      "text/plain": [
       "   id     name\n",
       "0   1    Alice\n",
       "1   2      Bob\n",
       "2   3  Charlie"
      ]
     },
     "metadata": {},
     "output_type": "display_data"
    },
    {
     "data": {
      "text/html": [
       "<div>\n",
       "<style scoped>\n",
       "    .dataframe tbody tr th:only-of-type {\n",
       "        vertical-align: middle;\n",
       "    }\n",
       "\n",
       "    .dataframe tbody tr th {\n",
       "        vertical-align: top;\n",
       "    }\n",
       "\n",
       "    .dataframe thead th {\n",
       "        text-align: right;\n",
       "    }\n",
       "</style>\n",
       "<table border=\"1\" class=\"dataframe\">\n",
       "  <thead>\n",
       "    <tr style=\"text-align: right;\">\n",
       "      <th></th>\n",
       "      <th>id</th>\n",
       "      <th>name</th>\n",
       "    </tr>\n",
       "  </thead>\n",
       "  <tbody>\n",
       "    <tr>\n",
       "      <th>0</th>\n",
       "      <td>1</td>\n",
       "      <td>Alice</td>\n",
       "    </tr>\n",
       "    <tr>\n",
       "      <th>1</th>\n",
       "      <td>2</td>\n",
       "      <td>Bob</td>\n",
       "    </tr>\n",
       "    <tr>\n",
       "      <th>2</th>\n",
       "      <td>3</td>\n",
       "      <td>Charlie</td>\n",
       "    </tr>\n",
       "  </tbody>\n",
       "</table>\n",
       "</div>"
      ],
      "text/plain": [
       "   id     name\n",
       "0   1    Alice\n",
       "1   2      Bob\n",
       "2   3  Charlie"
      ]
     },
     "metadata": {},
     "output_type": "display_data"
    }
   ],
   "source": [
    "csv_back = pd.read_csv(csv_path)\n",
    "parq_back = pd.read_parquet(parquet_path)\n",
    "\n",
    "print(\"CSV shape:\", csv_back.shape)\n",
    "print(\"Parquet shape:\", parq_back.shape)\n",
    "display(csv_back.head())\n",
    "display(parq_back.head())"
   ]
  },
  {
   "cell_type": "code",
   "execution_count": null,
   "id": "28ed0b1e-0ee9-49de-8cc3-6e10bab09d6d",
   "metadata": {},
   "outputs": [],
   "source": []
  }
 ],
 "metadata": {
  "kernelspec": {
   "display_name": "Python 3 (ipykernel)",
   "language": "python",
   "name": "python3"
  },
  "language_info": {
   "codemirror_mode": {
    "name": "ipython",
    "version": 3
   },
   "file_extension": ".py",
   "mimetype": "text/x-python",
   "name": "python",
   "nbconvert_exporter": "python",
   "pygments_lexer": "ipython3",
   "version": "3.13.5"
  }
 },
 "nbformat": 4,
 "nbformat_minor": 5
}
