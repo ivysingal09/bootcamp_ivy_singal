{
 "cells": [
  {
   "cell_type": "markdown",
   "id": "e190ff68",
   "metadata": {},
   "source": [
    "# Stage 13: Productization — Lecture Notebook\n",
    "\n",
    "This notebook demonstrates how to prepare a financial engineering project for reuse, handoff, and basic deployment concepts. It includes examples of creating a model, pickling it, building an API, generating a webpage with a chart, launching a Streamlit dashboard, and demonstrating productization alternatives."
   ]
  },
  {
   "cell_type": "markdown",
   "id": "914c7303",
   "metadata": {},
   "source": [
    "## 1. Generate and Train a Basic Model"
   ]
  },
  {
   "cell_type": "code",
   "execution_count": null,
   "id": "5a4d2ce9-02a6-4d6b-ba5e-82614f1b2869",
   "metadata": {},
   "outputs": [],
   "source": [
    "from sklearn.datasets import make_regression\n",
    "from sklearn.linear_model import LinearRegression\n",
    "import joblib\n",
    "import os\n"
   ]
  },
  {
   "cell_type": "code",
   "execution_count": null,
   "id": "e4c50ac8",
   "metadata": {},
   "outputs": [],
   "source": [
    "# Create folders if they don't exist\n",
    "os.makedirs('model', exist_ok=True)\n",
    "\n",
    "# Generate synthetic data\n",
    "X, y = make_regression(n_samples=100, n_features=2, noise=0.1, random_state=42)\n",
    "\n",
    "# Train a basic model\n",
    "model = LinearRegression()\n",
    "model.fit(X, y)\n",
    "\n",
    "# Save the model to disk\n",
    "joblib.dump(model, 'model/model.pkl')\n",
    "\n",
    "# Test that it works\n",
    "print(\"Test prediction:\", model.predict([[0.1, 0.2]]))"
   ]
  },
  {
   "cell_type": "markdown",
   "id": "244c1143",
   "metadata": {},
   "source": [
    "## 2. Reload Model and Verify Predictions"
   ]
  },
  {
   "cell_type": "code",
   "execution_count": null,
   "id": "10a6368d",
   "metadata": {},
   "outputs": [],
   "source": [
    "# Load the model\n",
    "loaded_model = joblib.load('model/model.pkl')\n",
    "print(\"Reloaded model prediction:\", loaded_model.predict([[0.1, 0.2]]))"
   ]
  },
  {
   "cell_type": "markdown",
   "id": "94952fd1",
   "metadata": {},
   "source": [
    "## 3. Define Prediction Function"
   ]
  },
  {
   "cell_type": "code",
   "execution_count": null,
   "id": "ad153ca1",
   "metadata": {},
   "outputs": [],
   "source": [
    "def predict(features, round_prediction=False):\n",
    "    \"\"\"\n",
    "    Predict using the loaded model.\n",
    "    Optional parameter: round_prediction\n",
    "    \"\"\"\n",
    "    pred = loaded_model.predict([features])[0]\n",
    "    if round_prediction:\n",
    "        pred = round(pred, 2)\n",
    "    return pred\n",
    "\n",
    "# Test the function\n",
    "print(\"Function test:\", predict([0.1, 0.2], round_prediction=True))"
   ]
  },
  {
   "cell_type": "markdown",
   "id": "afb280df",
   "metadata": {},
   "source": [
    "## 3b. Example of Modularization: Moving Functions to /src/\n",
    "\n",
    "We will create a small utility function in `/src/utils.py` to demonstrate reusable code. \n",
    "This shows how project functions can be separated from the notebook for cleaner structure and better handoff."
   ]
  },
  {
   "cell_type": "code",
   "execution_count": null,
   "id": "7d1c2a7e",
   "metadata": {},
   "outputs": [],
   "source": [
    "# Ensure /src/ exists\n",
    "import os\n",
    "os.makedirs('src', exist_ok=True)\n",
    "\n",
    "# Write a simple utility function to /src/utils.py\n",
    "utils_code = '''\n",
    "def calculate_metrics(X, y):\n",
    "    \"\"\"\n",
    "    Simple function to calculate regression metrics.\n",
    "    Returns dict with mean and sum of outputs.\n",
    "    \"\"\"\n",
    "    return {\"mean_y\": sum(y)/len(y), \"sum_y\": sum(y)}\n",
    "'''\n",
    "\n",
    "with open('src/utils.py', 'w') as f:\n",
    "    f.write(utils_code)\n",
    "\n",
    "print(\"Created /src/utils.py with calculate_metrics function.\")\n",
    "\n",
    "# Import and use the function\n",
    "from src.utils import calculate_metrics\n",
    "\n",
    "metrics = calculate_metrics([row[0] for row in X], y)\n",
    "print(\"Metrics calculated from utility function:\", metrics)"
   ]
  },
  {
   "cell_type": "markdown",
   "id": "af4394fd",
   "metadata": {},
   "source": [
    "## 4. Save Flask App to External File (app.py) for External Launch"
   ]
  },
  {
   "cell_type": "code",
   "execution_count": null,
   "id": "b38abd91",
   "metadata": {},
   "outputs": [],
   "source": [
    "flask_code = '''\n",
    "from flask import Flask, request, jsonify, render_template_string\n",
    "import joblib\n",
    "import matplotlib.pyplot as plt\n",
    "import io, base64\n",
    "\n",
    "model = joblib.load('model/model.pkl')\n",
    "app = Flask(__name__)\n",
    "\n",
    "def predict(features):\n",
    "    pred = model.predict([features])[0]\n",
    "    return pred\n",
    "\n",
    "@app.route('/predict', methods=['POST'])\n",
    "def predict_default():\n",
    "    data = request.get_json()\n",
    "    features = data.get('features')\n",
    "    return jsonify({'prediction': float(predict(features))})\n",
    "\n",
    "@app.route('/predict/<float:input1>')\n",
    "@app.route('/predict/<float:input1>/<float:input2>')\n",
    "def predict_path(input1, input2=None):\n",
    "    if input2 is None:\n",
    "        features = [input1]\n",
    "    else:\n",
    "        features = [input1, input2]\n",
    "    return jsonify({'prediction': float(predict(features))})\n",
    "\n",
    "@app.route('/plot')\n",
    "def plot_page():\n",
    "    fig, ax = plt.subplots()\n",
    "    ax.plot([0,1,2,3],[10,20,15,30])\n",
    "    ax.set_title(\"Demo Plot\")\n",
    "    buf = io.BytesIO()\n",
    "    fig.savefig(buf, format='png')\n",
    "    buf.seek(0)\n",
    "    img_base64 = base64.b64encode(buf.read()).decode('utf-8')\n",
    "    buf.close()\n",
    "    html = f\"<html><body><h1>Model Output Plot</h1><img src='data:image/png;base64,{img_base64}'></body></html>\"\n",
    "    return render_template_string(html)\n",
    "\n",
    "if __name__ == '__main__':\n",
    "    app.run(debug=False)\n",
    "'''\n",
    "\n",
    "with open('app.py','w') as f:\n",
    "    f.write(flask_code)\n",
    "\n",
    "print(\"Flask app saved to app.py\")"
   ]
  },
  {
   "cell_type": "markdown",
   "id": "d183fe6e",
   "metadata": {},
   "source": [
    "## 5. Launch Flask in External CMD Window (Windows Example)"
   ]
  },
  {
   "cell_type": "code",
   "execution_count": null,
   "id": "76d29fbd",
   "metadata": {},
   "outputs": [],
   "source": [
    "import os\n",
    "# Windows command to launch Flask in separate terminal window\n",
    "os.system(\"start cmd /k python app.py\")\n",
    "print(\"Flask server launched in external terminal window.\")"
   ]
  },
  {
   "cell_type": "markdown",
   "id": "e2746ebe",
   "metadata": {},
   "source": [
    "## 6. Save and Launch Streamlit App Externally"
   ]
  },
  {
   "cell_type": "code",
   "execution_count": null,
   "id": "42eef98a-4195-446b-a149-ff383a7e420b",
   "metadata": {
    "scrolled": true
   },
   "outputs": [],
   "source": [
    "# !pip install streamlit"
   ]
  },
  {
   "cell_type": "code",
   "execution_count": null,
   "id": "975fe8ef",
   "metadata": {},
   "outputs": [],
   "source": [
    "streamlit_code = '''\n",
    "import streamlit as st\n",
    "import joblib\n",
    "\n",
    "model = joblib.load('model/model.pkl')\n",
    "\n",
    "st.title(\"Model Prediction Dashboard\")\n",
    "\n",
    "input_1 = st.number_input(\"Feature 1\")\n",
    "input_2 = st.number_input(\"Feature 2\")\n",
    "\n",
    "if st.button(\"Predict\"):\n",
    "    pred = model.predict([[input_1, input_2]])\n",
    "    st.write(f\"Prediction: {pred[0]}\")\n",
    "'''\n",
    "\n",
    "with open('app_streamlit.py','w') as f:\n",
    "    f.write(streamlit_code)\n",
    "\n",
    "print(\"Streamlit app saved to app_streamlit.py\")\n",
    "\n",
    "# Launch Streamlit in external terminal (Windows example)\n",
    "os.system(\"start cmd /k streamlit run app_streamlit.py\")\n",
    "print(\"Streamlit dashboard launched in external terminal window.\")"
   ]
  },
  {
   "cell_type": "markdown",
   "id": "6c58f1f6",
   "metadata": {},
   "source": [
    "## 7. Demonstrate Calling the API from Notebook"
   ]
  },
  {
   "cell_type": "code",
   "execution_count": null,
   "id": "ea2c396d",
   "metadata": {},
   "outputs": [],
   "source": [
    "import requests\n",
    "\n",
    "# POST request with JSON payload\n",
    "response = requests.post(\"http://127.0.0.1:5000/predict\", json={\"features\":[0.1, 0.2]})\n",
    "print(\"POST response:\", response.json())\n",
    "\n",
    "# GET request with path parameters\n",
    "response2 = requests.get(\"http://127.0.0.1:5000/predict/0.1/0.2\")\n",
    "print(\"GET response:\", response2.json())"
   ]
  },
  {
   "cell_type": "markdown",
   "id": "409140cd",
   "metadata": {},
   "source": [
    "## 8. Handoff-Ready Folder Structure & Productization Practices"
   ]
  },
  {
   "cell_type": "code",
   "execution_count": null,
   "id": "5f346a7c",
   "metadata": {},
   "outputs": [],
   "source": [
    "print('Example folder structure for productization:')\n",
    "print('project_root/')\n",
    "print('  /data/       # raw and processed data')\n",
    "print('  /src/        # reusable functions and scripts')\n",
    "print('  /notebooks/  # exploration and final notebooks')\n",
    "print('  /reports/    # stakeholder summaries, charts, PDFs')\n",
    "print('  /model/      # pickled model objects')\n",
    "print('  README.md    # project overview, assumptions, instructions')\n",
    "\n",
    "print('Ways to productize a project:')\n",
    "print('- Expose model via an API (Flask, FastAPI)')\n",
    "print('- Provide an interactive dashboard (Streamlit, Dash)')\n",
    "print('- Generate automated batch scripts')\n",
    "print('- Create clear documentation and README for handoff')\n",
    "print('- Package code and outputs for reproducibility')\n",
    "print('  - Code is modularized into stage driven libraries')\n",
    "print('  - Functions are flexible and allow for many possibilities')\n",
    "print('  - Analysis code runs from start to finish')\n",
    "print('    - Code throws errors when stuck at a point that it needs human intervention')\n",
    "print('    - Code logs and/or collects all relavant information as it runs')\n",
    "print('  - Analyses can be run with a variety of data sets and inputs from start to finish')\n",
    "print('    - Interaction and clear documentation is given to a user for this functionality')"
   ]
  },
  {
   "cell_type": "markdown",
   "id": "010921e8",
   "metadata": {},
   "source": [
    "## 9. Reading & Conceptual Notes\n",
    "\n",
    "- Productization is about preparing code and artifacts for **reuse, handoff, and potential deployment**.\n",
    "- Key practices include **modularity**, **reproducibility**, **documentation**, and **clear folder structures**.\n",
    "- APIs allow other software systems to interact with your model; dashboards allow stakeholders to interact directly.\n",
    "- Batch scripts or automated pipelines demonstrate repeatability.\n",
    "- Handoff requires thinking like your future self or a teammate: \n",
    "  - what do they need to rerun, understand, or extend your work?\n",
    "- Flask vs Streamlit: Flask exposes endpoints; Streamlit provides a web UI for demonstration.\n",
    "- Even if not deploying, practicing these steps prepares you for real production environments.\n",
    "- Mock plots and sample dashboards show how outputs can be packaged for stakeholders.\n",
    "- Always validate your README and structure by trying to run the project from start to finish using fresh clone or environment."
   ]
  }
 ],
 "metadata": {
  "kernelspec": {
   "display_name": "Python 3 (ipykernel)",
   "language": "python",
   "name": "python3"
  },
  "language_info": {
   "codemirror_mode": {
    "name": "ipython",
    "version": 3
   },
   "file_extension": ".py",
   "mimetype": "text/x-python",
   "name": "python",
   "nbconvert_exporter": "python",
   "pygments_lexer": "ipython3",
   "version": "3.13.5"
  }
 },
 "nbformat": 4,
 "nbformat_minor": 5
}
