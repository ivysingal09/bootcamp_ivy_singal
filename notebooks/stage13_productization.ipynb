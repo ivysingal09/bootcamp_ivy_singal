{
 "cells": [
  {
   "cell_type": "markdown",
   "id": "1174b62d-7460-48d0-88a8-3019e9501bb8",
   "metadata": {},
   "source": [
    "# Stage 13 Homework — Productization"
   ]
  },
  {
   "cell_type": "markdown",
   "id": "1d175cf4",
   "metadata": {},
   "source": [
    "## Steps\n",
    "1. Create a mock, very basic analysis in a notebook.\n",
    "2. Clean your notebook by removing exploratory cells and documenting your code.\n",
    "3. Move reusable functions into `/src/`.\n",
    "4. Load your trained model from Stage 12 or earlier stages.\n",
    "5. Pickle/save the model and test reload.\n",
    "6. Implement **either**:\n",
    "   - Flask API with `/predict` endpoint and optional parameters\n",
    "   - Streamlit or Dash dashboard for user interaction\n",
    "7. Include:\n",
    "   - Error handling for invalid inputs\n",
    "   - `requirements.txt` for reproducibility\n",
    "   - Documentation in `README.md`\n",
    "8. Test your deployment locally and provide evidence.\n",
    "9. Organize project folders and finalize notebooks for handoff."
   ]
  },
  {
   "cell_type": "markdown",
   "id": "8e003adc",
   "metadata": {},
   "source": [
    "## 1. Create mock, very basic analysis"
   ]
  },
  {
   "cell_type": "code",
   "execution_count": 7,
   "id": "88fadda7",
   "metadata": {},
   "outputs": [
    {
     "name": "stdout",
     "output_type": "stream",
     "text": [
      "Shape: (3, 3)\n"
     ]
    },
    {
     "data": {
      "text/html": [
       "<div>\n",
       "<style scoped>\n",
       "    .dataframe tbody tr th:only-of-type {\n",
       "        vertical-align: middle;\n",
       "    }\n",
       "\n",
       "    .dataframe tbody tr th {\n",
       "        vertical-align: top;\n",
       "    }\n",
       "\n",
       "    .dataframe thead th {\n",
       "        text-align: right;\n",
       "    }\n",
       "</style>\n",
       "<table border=\"1\" class=\"dataframe\">\n",
       "  <thead>\n",
       "    <tr style=\"text-align: right;\">\n",
       "      <th></th>\n",
       "      <th>feature1</th>\n",
       "      <th>feature2</th>\n",
       "      <th>target</th>\n",
       "    </tr>\n",
       "  </thead>\n",
       "  <tbody>\n",
       "    <tr>\n",
       "      <th>0</th>\n",
       "      <td>1</td>\n",
       "      <td>4</td>\n",
       "      <td>7</td>\n",
       "    </tr>\n",
       "    <tr>\n",
       "      <th>1</th>\n",
       "      <td>2</td>\n",
       "      <td>5</td>\n",
       "      <td>8</td>\n",
       "    </tr>\n",
       "    <tr>\n",
       "      <th>2</th>\n",
       "      <td>3</td>\n",
       "      <td>6</td>\n",
       "      <td>9</td>\n",
       "    </tr>\n",
       "  </tbody>\n",
       "</table>\n",
       "</div>"
      ],
      "text/plain": [
       "   feature1  feature2  target\n",
       "0         1         4       7\n",
       "1         2         5       8\n",
       "2         3         6       9"
      ]
     },
     "metadata": {},
     "output_type": "display_data"
    },
    {
     "data": {
      "text/html": [
       "<div>\n",
       "<style scoped>\n",
       "    .dataframe tbody tr th:only-of-type {\n",
       "        vertical-align: middle;\n",
       "    }\n",
       "\n",
       "    .dataframe tbody tr th {\n",
       "        vertical-align: top;\n",
       "    }\n",
       "\n",
       "    .dataframe thead th {\n",
       "        text-align: right;\n",
       "    }\n",
       "</style>\n",
       "<table border=\"1\" class=\"dataframe\">\n",
       "  <thead>\n",
       "    <tr style=\"text-align: right;\">\n",
       "      <th></th>\n",
       "      <th>feature1</th>\n",
       "      <th>feature2</th>\n",
       "      <th>target</th>\n",
       "    </tr>\n",
       "  </thead>\n",
       "  <tbody>\n",
       "    <tr>\n",
       "      <th>count</th>\n",
       "      <td>3.0</td>\n",
       "      <td>3.0</td>\n",
       "      <td>3.0</td>\n",
       "    </tr>\n",
       "    <tr>\n",
       "      <th>mean</th>\n",
       "      <td>2.0</td>\n",
       "      <td>5.0</td>\n",
       "      <td>8.0</td>\n",
       "    </tr>\n",
       "    <tr>\n",
       "      <th>std</th>\n",
       "      <td>1.0</td>\n",
       "      <td>1.0</td>\n",
       "      <td>1.0</td>\n",
       "    </tr>\n",
       "    <tr>\n",
       "      <th>min</th>\n",
       "      <td>1.0</td>\n",
       "      <td>4.0</td>\n",
       "      <td>7.0</td>\n",
       "    </tr>\n",
       "    <tr>\n",
       "      <th>25%</th>\n",
       "      <td>1.5</td>\n",
       "      <td>4.5</td>\n",
       "      <td>7.5</td>\n",
       "    </tr>\n",
       "    <tr>\n",
       "      <th>50%</th>\n",
       "      <td>2.0</td>\n",
       "      <td>5.0</td>\n",
       "      <td>8.0</td>\n",
       "    </tr>\n",
       "    <tr>\n",
       "      <th>75%</th>\n",
       "      <td>2.5</td>\n",
       "      <td>5.5</td>\n",
       "      <td>8.5</td>\n",
       "    </tr>\n",
       "    <tr>\n",
       "      <th>max</th>\n",
       "      <td>3.0</td>\n",
       "      <td>6.0</td>\n",
       "      <td>9.0</td>\n",
       "    </tr>\n",
       "  </tbody>\n",
       "</table>\n",
       "</div>"
      ],
      "text/plain": [
       "       feature1  feature2  target\n",
       "count       3.0       3.0     3.0\n",
       "mean        2.0       5.0     8.0\n",
       "std         1.0       1.0     1.0\n",
       "min         1.0       4.0     7.0\n",
       "25%         1.5       4.5     7.5\n",
       "50%         2.0       5.0     8.0\n",
       "75%         2.5       5.5     8.5\n",
       "max         3.0       6.0     9.0"
      ]
     },
     "metadata": {},
     "output_type": "display_data"
    },
    {
     "name": "stdout",
     "output_type": "stream",
     "text": [
      "Basic analysis complete.\n"
     ]
    }
   ],
   "source": [
    "import pandas as pd\n",
    "\n",
    "# Tiny mock dataset\n",
    "df = pd.DataFrame({\n",
    "    \"feature1\": [1, 2, 3],\n",
    "    \"feature2\": [4, 5, 6],\n",
    "    \"target\":   [7, 8, 9]\n",
    "})\n",
    "\n",
    "print(\"Shape:\", df.shape)\n",
    "display(df.head())\n",
    "display(df.describe())\n",
    "print(\"Basic analysis complete.\")"
   ]
  },
  {
   "cell_type": "markdown",
   "id": "f502c653-5c7b-4c18-a926-bf324190c2b8",
   "metadata": {},
   "source": [
    "## 2. Notebook Cleanup"
   ]
  },
  {
   "cell_type": "code",
   "execution_count": 1,
   "id": "4d6bf894-c6cd-4d49-a1d7-f5441dd2b642",
   "metadata": {},
   "outputs": [
    {
     "name": "stdout",
     "output_type": "stream",
     "text": [
      "Notebook cleaned and documented for handoff.\n"
     ]
    }
   ],
   "source": [
    "# Keep only the cells you need + add comments where helpful.\n",
    "print(\"Notebook cleaned and documented for handoff.\")"
   ]
  },
  {
   "cell_type": "markdown",
   "id": "aa4c95b6-acb9-4b5d-8dd0-f3896536fb75",
   "metadata": {},
   "source": [
    "## 3. Move reusable functions to /src/"
   ]
  },
  {
   "cell_type": "code",
   "execution_count": 6,
   "id": "8a2cf887-3bba-445d-9a37-078ce2001c7c",
   "metadata": {},
   "outputs": [
    {
     "name": "stdout",
     "output_type": "stream",
     "text": [
      "Using project root: /Users/ivysingal/bootcamp_ivy_singal\n",
      "src exists? True\n"
     ]
    }
   ],
   "source": [
    "import sys\n",
    "from pathlib import Path\n",
    "\n",
    "ROOT = Path.cwd()\n",
    "# If you're inside notebooks/, go up one level to the repo root\n",
    "if not (ROOT / \"src\").exists():\n",
    "    ROOT = ROOT.parent\n",
    "\n",
    "if str(ROOT) not in sys.path:\n",
    "    sys.path.insert(0, str(ROOT))\n",
    "\n",
    "print(\"Using project root:\", ROOT)\n",
    "print(\"src exists?\", (ROOT / \"src\").exists())"
   ]
  },
  {
   "cell_type": "code",
   "execution_count": 7,
   "id": "774e5ee5-1354-4bc3-accf-479704612cb4",
   "metadata": {},
   "outputs": [
    {
     "name": "stdout",
     "output_type": "stream",
     "text": [
      "[0.1, 2.0, 3.0]\n"
     ]
    }
   ],
   "source": [
    "from src.utils import validate_numeric_list\n",
    "print(validate_numeric_list([0.1, \"2\", 3]))"
   ]
  },
  {
   "cell_type": "markdown",
   "id": "b7489134",
   "metadata": {},
   "source": [
    "## 4. Folder Structure Reminder\n",
    "\n",
    "Ensure your project uses a clean folder structure:\n",
    "```\n",
    "project/\n",
    "  data/\n",
    "  notebooks/\n",
    "  src/\n",
    "  reports/\n",
    "  model/\n",
    "  README.md\n",
    "```\n",
    "For API/Dashboard: minimal example:\n",
    "```\n",
    "project/\n",
    "    app.py\n",
    "    model.pkl\n",
    "    requirements.txt\n",
    "    README.md\n",
    "```"
   ]
  },
  {
   "cell_type": "markdown",
   "id": "ff979bdb-c4f2-4ac6-a9f9-8a1ccbf5e78f",
   "metadata": {},
   "source": [
    "## 5. Pickle / Save Final Model"
   ]
  },
  {
   "cell_type": "code",
   "execution_count": 8,
   "id": "4558e3e0",
   "metadata": {},
   "outputs": [
    {
     "name": "stdout",
     "output_type": "stream",
     "text": [
      "Model loaded: SumModel\n",
      "Test prediction: [0.6]\n"
     ]
    }
   ],
   "source": [
    "from src.utils import SumModel\n",
    "import pickle, os\n",
    "\n",
    "os.makedirs(\"model\", exist_ok=True)\n",
    "with open(\"model/model.pkl\",\"wb\") as f:\n",
    "    pickle.dump(SumModel(), f)\n",
    "\n",
    "with open(\"model/model.pkl\",\"rb\") as f:\n",
    "    loaded_model = pickle.load(f)\n",
    "\n",
    "print(\"Model loaded:\", type(loaded_model).__name__)\n",
    "print(\"Test prediction:\", loaded_model.predict([[0.1, 0.2, 0.3]]))"
   ]
  },
  {
   "cell_type": "markdown",
   "id": "b23576ae-52ee-40e7-9edc-936183172fb5",
   "metadata": {},
   "source": [
    "## 6. Flask API Starter"
   ]
  },
  {
   "cell_type": "code",
   "execution_count": 9,
   "id": "bad06d78",
   "metadata": {},
   "outputs": [
    {
     "name": "stdout",
     "output_type": "stream",
     "text": [
      "Flask started at http://127.0.0.1:5000\n",
      " * Serving Flask app '__main__'\n",
      " * Debug mode: off\n"
     ]
    },
    {
     "name": "stderr",
     "output_type": "stream",
     "text": [
      "\u001b[31m\u001b[1mWARNING: This is a development server. Do not use it in a production deployment. Use a production WSGI server instead.\u001b[0m\n",
      " * Running on http://127.0.0.1:5000\n",
      "\u001b[33mPress CTRL+C to quit\u001b[0m\n",
      "127.0.0.1 - - [28/Aug/2025 18:52:31] \"POST /predict HTTP/1.1\" 200 -\n",
      "127.0.0.1 - - [28/Aug/2025 18:52:31] \"GET /predict/2.0 HTTP/1.1\" 200 -\n",
      "127.0.0.1 - - [28/Aug/2025 18:52:31] \"GET /predict/1.0/3.0 HTTP/1.1\" 200 -\n",
      "127.0.0.1 - - [28/Aug/2025 18:52:31] \"GET /plot HTTP/1.1\" 200 -\n"
     ]
    }
   ],
   "source": [
    "from flask import Flask, request, jsonify\n",
    "import threading, io, base64, pickle\n",
    "import matplotlib.pyplot as plt\n",
    "\n",
    "# use the model saved in step 5\n",
    "with open('model/model.pkl','rb') as f:\n",
    "    loaded_model = pickle.load(f)\n",
    "\n",
    "app = Flask(__name__)\n",
    "\n",
    "@app.route('/predict', methods=['POST'])\n",
    "def predict():\n",
    "    data = request.get_json(silent=True) or {}\n",
    "    features = data.get('features')\n",
    "    if features is None:\n",
    "        return jsonify({'error': 'No features provided'}), 400\n",
    "    try:\n",
    "        pred = loaded_model.predict([features])\n",
    "        pred_val = pred[0] if hasattr(pred, '__len__') else float(pred)\n",
    "    except Exception:\n",
    "        pred_val = sum(features)  # simple fallback\n",
    "    return jsonify({'prediction': float(pred_val)})\n",
    "\n",
    "@app.route('/predict/<float:input1>', methods=['GET'])\n",
    "def predict_one(input1):\n",
    "    try:\n",
    "        pred = loaded_model.predict([[input1]])\n",
    "        pred_val = pred[0] if hasattr(pred, '__len__') else float(pred)\n",
    "    except Exception:\n",
    "        pred_val = input1 * 2.0\n",
    "    return jsonify({'prediction': float(pred_val)})\n",
    "\n",
    "@app.route('/predict/<float:input1>/<float:input2>', methods=['GET'])\n",
    "def predict_two(input1, input2):\n",
    "    try:\n",
    "        pred = loaded_model.predict([[input1, input2]])\n",
    "        pred_val = pred[0] if hasattr(pred, '__len__') else float(pred)\n",
    "    except Exception:\n",
    "        pred_val = input1 + input2\n",
    "    return jsonify({'prediction': float(pred_val)})\n",
    "\n",
    "@app.route('/plot', methods=['GET'])\n",
    "def plot():\n",
    "    fig, ax = plt.subplots()\n",
    "    ax.plot([0,1,2,3,4],[0,1,4,9,16])\n",
    "    buf = io.BytesIO()\n",
    "    fig.savefig(buf, format='png', bbox_inches='tight')\n",
    "    buf.seek(0)\n",
    "    import base64\n",
    "    img_b64 = base64.b64encode(buf.read()).decode('utf-8')\n",
    "    return f\"<img src='data:image/png;base64,{img_b64}'/>\"\n",
    "\n",
    "def run_flask():\n",
    "    app.run(port=5000)\n",
    "\n",
    "threading.Thread(target=run_flask, daemon=True).start()\n",
    "print(\"Flask started at http://127.0.0.1:5000\")"
   ]
  },
  {
   "cell_type": "markdown",
   "id": "9222005b-1c89-4299-9d0b-28a3f36a0d6e",
   "metadata": {},
   "source": [
    "## 7. Testing the Flask API from Notebook"
   ]
  },
  {
   "cell_type": "code",
   "execution_count": 10,
   "id": "721f983f",
   "metadata": {},
   "outputs": [
    {
     "name": "stdout",
     "output_type": "stream",
     "text": [
      "{'prediction': 0.6000000000000001}\n",
      "{'prediction': 2.0}\n",
      "{'prediction': 4.0}\n"
     ]
    },
    {
     "data": {
      "text/html": [
       "<img src='data:image/png;base64,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'/>"
      ],
      "text/plain": [
       "<IPython.core.display.HTML object>"
      ]
     },
     "metadata": {},
     "output_type": "display_data"
    },
    {
     "data": {
      "image/png": "[encoded data removed]",
      "text/plain": [
       "<Figure size 640x480 with 1 Axes>"
      ]
     },
     "metadata": {},
     "output_type": "display_data"
    }
   ],
   "source": [
    "import requests\n",
    "from IPython.display import display, HTML\n",
    "\n",
    "# POST /predict\n",
    "response = requests.post(\n",
    "    \"http://127.0.0.1:5000/predict\",\n",
    "    json={'features': [0.1, 0.2, 0.3]}\n",
    ")\n",
    "print(response.json())\n",
    "\n",
    "# GET /predict/<input1>\n",
    "resp2 = requests.get(\"http://127.0.0.1:5000/predict/2.0\")\n",
    "print(resp2.json())\n",
    "\n",
    "# GET /predict/<input1>/<input2>\n",
    "resp3 = requests.get(\"http://127.0.0.1:5000/predict/1.0/3.0\")\n",
    "print(resp3.json())\n",
    "\n",
    "# GET /plot\n",
    "resp_plot = requests.get(\"http://127.0.0.1:5000/plot\")\n",
    "display(HTML(resp_plot.text))"
   ]
  }
 ],
 "metadata": {
  "kernelspec": {
   "display_name": "Python 3 (ipykernel)",
   "language": "python",
   "name": "python3"
  },
  "language_info": {
   "codemirror_mode": {
    "name": "ipython",
    "version": 3
   },
   "file_extension": ".py",
   "mimetype": "text/x-python",
   "name": "python",
   "nbconvert_exporter": "python",
   "pygments_lexer": "ipython3",
   "version": "3.13.5"
  }
 },
 "nbformat": 4,
 "nbformat_minor": 5
}
