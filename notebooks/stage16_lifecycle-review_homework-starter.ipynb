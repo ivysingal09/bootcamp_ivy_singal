{
 "cells": [
  {
   "cell_type": "markdown",
   "metadata": {},
   "source": [
    "# Stage 16 Homework"
   ]
  },
  {
   "cell_type": "markdown",
   "metadata": {},
   "source": [
    "## Checklist"
   ]
  },
  {
   "cell_type": "code",
   "execution_count": 3,
   "metadata": {},
   "outputs": [
    {
     "data": {
      "text/plain": [
       "{'repo_clean_structure': True,\n",
       " 'readme_includes_lifecycle': True,\n",
       " 'requirements_present': True,\n",
       " 'stakeholder_summary_added': True,\n",
       " 'final_models_and_artifacts': True,\n",
       " 'stage14_pdf_committed': True,\n",
       " 'stage15_notebook_committed': True,\n",
       " 'framework_guide_ready': True}"
      ]
     },
     "execution_count": 3,
     "metadata": {},
     "output_type": "execute_result"
    }
   ],
   "source": [
    "checklist = {\n",
    "    \"repo_clean_structure\": True,        # data/, src/, notebooks/, model/, reports/ present\n",
    "    \"readme_includes_lifecycle\": True,   # README maps repo pieces to lifecycle stages\n",
    "    \"requirements_present\": True,        # requirements.txt exists and installs\n",
    "    \"stakeholder_summary_added\": True,   # deliverables/ summary (pdf or md)\n",
    "    \"final_models_and_artifacts\": True,  # model/model.pkl etc\n",
    "    \"stage14_pdf_committed\": True,       # deployment & monitoring reflection present\n",
    "    \"stage15_notebook_committed\": True,  # orchestration notebook present\n",
    "    \"framework_guide_ready\": True       # set True after you finish the table.md\n",
    "}\n",
    "checklist"
   ]
  }
 ],
 "metadata": {
  "kernelspec": {
   "display_name": "Python 3 (ipykernel)",
   "language": "python",
   "name": "python3"
  },
  "language_info": {
   "codemirror_mode": {
    "name": "ipython",
    "version": 3
   },
   "file_extension": ".py",
   "mimetype": "text/x-python",
   "name": "python",
   "nbconvert_exporter": "python",
   "pygments_lexer": "ipython3",
   "version": "3.13.5"
  }
 },
 "nbformat": 4,
 "nbformat_minor": 4
}
