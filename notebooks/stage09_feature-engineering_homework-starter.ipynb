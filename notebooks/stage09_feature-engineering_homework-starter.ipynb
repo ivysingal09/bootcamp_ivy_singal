{
 "cells": [
  {
   "cell_type": "markdown",
   "id": "56ff50b5",
   "metadata": {},
   "source": [
    "# Stage 09 — Homework Starter Notebook\n",
    "\n",
    "In the lecture, we learned how to create engineered features. Now it’s your turn to apply those ideas to your own project data."
   ]
  },
  {
   "cell_type": "code",
   "execution_count": 1,
   "id": "860fc855",
   "metadata": {},
   "outputs": [
    {
     "data": {
      "text/html": [
       "<div>\n",
       "<style scoped>\n",
       "    .dataframe tbody tr th:only-of-type {\n",
       "        vertical-align: middle;\n",
       "    }\n",
       "\n",
       "    .dataframe tbody tr th {\n",
       "        vertical-align: top;\n",
       "    }\n",
       "\n",
       "    .dataframe thead th {\n",
       "        text-align: right;\n",
       "    }\n",
       "</style>\n",
       "<table border=\"1\" class=\"dataframe\">\n",
       "  <thead>\n",
       "    <tr style=\"text-align: right;\">\n",
       "      <th></th>\n",
       "      <th>date</th>\n",
       "      <th>region</th>\n",
       "      <th>age</th>\n",
       "      <th>income</th>\n",
       "      <th>transactions</th>\n",
       "      <th>spend</th>\n",
       "    </tr>\n",
       "  </thead>\n",
       "  <tbody>\n",
       "    <tr>\n",
       "      <th>0</th>\n",
       "      <td>2021-02-01</td>\n",
       "      <td>West</td>\n",
       "      <td>37.6</td>\n",
       "      <td>28086.81</td>\n",
       "      <td>4</td>\n",
       "      <td>73.35</td>\n",
       "    </tr>\n",
       "    <tr>\n",
       "      <th>1</th>\n",
       "      <td>2021-02-02</td>\n",
       "      <td>North</td>\n",
       "      <td>43.0</td>\n",
       "      <td>33034.75</td>\n",
       "      <td>1</td>\n",
       "      <td>52.37</td>\n",
       "    </tr>\n",
       "    <tr>\n",
       "      <th>2</th>\n",
       "      <td>2021-02-03</td>\n",
       "      <td>South</td>\n",
       "      <td>38.2</td>\n",
       "      <td>50045.39</td>\n",
       "      <td>2</td>\n",
       "      <td>131.85</td>\n",
       "    </tr>\n",
       "    <tr>\n",
       "      <th>3</th>\n",
       "      <td>2021-02-04</td>\n",
       "      <td>South</td>\n",
       "      <td>24.9</td>\n",
       "      <td>39467.28</td>\n",
       "      <td>4</td>\n",
       "      <td>147.58</td>\n",
       "    </tr>\n",
       "    <tr>\n",
       "      <th>4</th>\n",
       "      <td>2021-02-05</td>\n",
       "      <td>South</td>\n",
       "      <td>59.8</td>\n",
       "      <td>31201.65</td>\n",
       "      <td>1</td>\n",
       "      <td>86.76</td>\n",
       "    </tr>\n",
       "  </tbody>\n",
       "</table>\n",
       "</div>"
      ],
      "text/plain": [
       "        date region   age    income  transactions   spend\n",
       "0 2021-02-01   West  37.6  28086.81             4   73.35\n",
       "1 2021-02-02  North  43.0  33034.75             1   52.37\n",
       "2 2021-02-03  South  38.2  50045.39             2  131.85\n",
       "3 2021-02-04  South  24.9  39467.28             4  147.58\n",
       "4 2021-02-05  South  59.8  31201.65             1   86.76"
      ]
     },
     "execution_count": 1,
     "metadata": {},
     "output_type": "execute_result"
    }
   ],
   "source": [
    "# === Stage 09 — Setup & Synthetic Data (same schema as Stage 08) ===\n",
    "import numpy as np\n",
    "import pandas as pd\n",
    "import matplotlib.pyplot as plt\n",
    "import seaborn as sns\n",
    "from scipy.stats import pearsonr\n",
    "\n",
    "sns.set(context=\"talk\", style=\"whitegrid\")\n",
    "np.random.seed(8)\n",
    "pd.set_option(\"display.max_columns\", 100)\n",
    "\n",
    "# Recreate Stage 08 dataset\n",
    "n = 160\n",
    "df = pd.DataFrame({\n",
    "    \"date\": pd.date_range(\"2021-02-01\", periods=n, freq=\"D\"),\n",
    "    \"region\": np.random.choice([\"North\",\"South\",\"East\",\"West\"], size=n),\n",
    "    \"age\": np.random.normal(40, 8, size=n).clip(22, 70).round(1),\n",
    "    \"income\": np.random.lognormal(mean=10.6, sigma=0.3, size=n).round(2),\n",
    "    \"transactions\": np.random.poisson(lam=3, size=n),\n",
    "})\n",
    "base = df[\"income\"] * 0.0015 + df[\"transactions\"] * 18 + np.random.normal(0, 40, size=n)\n",
    "df[\"spend\"] = np.maximum(0, base).round(2)\n",
    "\n",
    "# Inject a bit of missingness and outliers (same as Stage 08)\n",
    "df.loc[np.random.choice(df.index, 5, replace=False), \"income\"] = np.nan\n",
    "df.loc[np.random.choice(df.index, 3, replace=False), \"spend\"] = np.nan\n",
    "df.loc[np.random.choice(df.index, 2, replace=False), \"transactions\"] = df[\"transactions\"].max() + 12\n",
    "\n",
    "df.head()"
   ]
  },
  {
   "cell_type": "code",
   "execution_count": 2,
   "id": "da2c9d91",
   "metadata": {},
   "outputs": [
    {
     "data": {
      "text/plain": [
       "np.float64(0.19240508300219825)"
      ]
     },
     "execution_count": 2,
     "metadata": {},
     "output_type": "execute_result"
    }
   ],
   "source": [
    "# === Feature 1: Spend per Transaction ===\n",
    "# Purpose: normalize spend by activity level to capture spending intensity\n",
    "df['spend_per_txn'] = df['spend'] / df['transactions'].replace(0, np.nan)\n",
    "\n",
    "# Optional quick check (correlation with target \"spend\")\n",
    "tmp = df[['spend','spend_per_txn']].dropna()\n",
    "corr_1 = tmp.corr().loc['spend','spend_per_txn']\n",
    "corr_1"
   ]
  },
  {
   "cell_type": "markdown",
   "id": "9f0c50db-a1ff-4b8c-9c36-c9503103df87",
   "metadata": {},
   "source": [
    "**Feature 1 — `spend_per_txn`**  \n",
    "*Rationale:* Normalizes total spend by number of transactions to capture spending intensity per purchase. Helps when raw counts vary widely (we observed outliers in `transactions` during EDA). Expected to correlate with overall spend while reducing sensitivity to extreme transaction counts."
   ]
  },
  {
   "cell_type": "code",
   "execution_count": 3,
   "id": "9ee1c939-7b16-407f-9f37-449af3e4827b",
   "metadata": {},
   "outputs": [
    {
     "data": {
      "text/plain": [
       "np.float64(0.7800118564894746)"
      ]
     },
     "execution_count": 3,
     "metadata": {},
     "output_type": "execute_result"
    }
   ],
   "source": [
    "# === Feature 2: Spend to Income Ratio ===\n",
    "# Purpose: proportionality of spend relative to earning capacity\n",
    "df['spend_income_ratio'] = df['spend'] / df['income']\n",
    "\n",
    "# Optional quick check: correlation with spend (drop NA)\n",
    "tmp = df[['spend','spend_income_ratio']].dropna()\n",
    "corr_2 = tmp.corr().loc['spend','spend_income_ratio']\n",
    "corr_2"
   ]
  },
  {
   "cell_type": "markdown",
   "id": "6b13bb5e-a096-4710-9bee-5d5be85f876d",
   "metadata": {},
   "source": [
    "**Feature 2 — `spend_income_ratio`**  \n",
    "*Rationale:* Measures how much a customer spends relative to their income. This captures proportional behavior and can be more informative than raw income or spend alone, especially when income is right-skewed (observed in EDA)."
   ]
  },
  {
   "cell_type": "markdown",
   "id": "bff0bd99-5587-4047-b78d-cd91990bf34c",
   "metadata": {},
   "source": [
    "## Feature Engineering Summary\n",
    "\n",
    "**Feature 1 – `spend_per_txn`**  \n",
    "- *Why:* Normalizes spend by activity level; we saw outliers in `transactions` during EDA.  \n",
    "- *Expectation:* Captures spending intensity per purchase; less sensitive to extreme transaction counts.\n",
    "\n",
    "**Feature 2 – `spend_income_ratio`**  \n",
    "- *Why:* Income was right-skewed and related to spend; ratio captures proportional spending behavior.  \n",
    "- *Expectation:* Helps compare customers with different income levels on a common scale.\n",
    "\n",
    "**Next steps (if modeling):** consider robust scaling / winsorizing outliers, handle missing `income`/`spend` prior to training, and evaluate feature importance."
   ]
  },
  {
   "cell_type": "code",
   "execution_count": null,
   "id": "077da27e-d037-4bf1-8dbe-8d7f282cfa96",
   "metadata": {},
   "outputs": [],
   "source": []
  }
 ],
 "metadata": {
  "kernelspec": {
   "display_name": "Python 3 (ipykernel)",
   "language": "python",
   "name": "python3"
  },
  "language_info": {
   "codemirror_mode": {
    "name": "ipython",
    "version": 3
   },
   "file_extension": ".py",
   "mimetype": "text/x-python",
   "name": "python",
   "nbconvert_exporter": "python",
   "pygments_lexer": "ipython3",
   "version": "3.13.5"
  }
 },
 "nbformat": 4,
 "nbformat_minor": 5
}
