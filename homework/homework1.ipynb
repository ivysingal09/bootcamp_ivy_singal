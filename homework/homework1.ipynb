{
 "cells": [
  {
   "cell_type": "markdown",
   "id": "9aa231a9-6c79-4b46-9245-f36c1a2be3d9",
   "metadata": {},
   "source": [
    "# Homework 1: Problem Framing & Scoping"
   ]
  },
  {
   "cell_type": "markdown",
   "id": "a7e098e1-97ab-4421-8447-3cab4984ec05",
   "metadata": {},
   "source": [
    "## Problem Statement\n",
    "I’m analyzing financial market data to understand how factors like interest rates, inflation, and stock indices relate to short-term market movements. The goal is to provide a quick daily snapshot that helps an individual investor make smarter decisions."
   ]
  },
  {
   "cell_type": "markdown",
   "id": "3f6de155-8286-4c22-ae31-699729b728b2",
   "metadata": {},
   "source": [
    "## Why is this a good problem?\n",
    "- Market info is scattered; a concise view helps daily decisions.  \n",
    "- Public data sources (indices, rates, CPI, news) are available.  \n",
    "- The task supports both descriptive (summaries) and simple predictive signals.\n",
    "\n",
    "## Data Requirements\n",
    "The dataset should include:\n",
    "- Prices/volumes: selected stock/index OHLCV (e.g., S&P 500 or watchlist)\n",
    "- Macro: interest rates (e.g., 10Y yield), CPI/inflation releases, calendar dates\n",
    "- Derived features: rolling returns, moving averages, volatility\n",
    "- Optional: news headlines or sentiment"
   ]
  },
  {
   "cell_type": "code",
   "execution_count": null,
   "id": "e9f2cc15-addb-49db-9718-90497c6fb1e6",
   "metadata": {},
   "outputs": [],
   "source": []
  }
 ],
 "metadata": {
  "kernelspec": {
   "display_name": "Python 3 (ipykernel)",
   "language": "python",
   "name": "python3"
  },
  "language_info": {
   "codemirror_mode": {
    "name": "ipython",
    "version": 3
   },
   "file_extension": ".py",
   "mimetype": "text/x-python",
   "name": "python",
   "nbconvert_exporter": "python",
   "pygments_lexer": "ipython3",
   "version": "3.13.5"
  }
 },
 "nbformat": 4,
 "nbformat_minor": 5
}
