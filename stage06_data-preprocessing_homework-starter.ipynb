{
 "cells": [
  {
   "cell_type": "markdown",
   "metadata": {},
   "source": [
    "# Setup: Generate Sample Dataset\n",
    "\n",
    "This cell creates the required folder structure (`data/raw/` and `data/processed/`) relative to the notebook, and generates the sample CSV dataset with missing values. \n",
    "This ensures the dataset is ready for cleaning functions and saves it to `data/raw/sample_data.csv`."
   ]
  },
  {
   "cell_type": "code",
   "execution_count": null,
   "metadata": {},
   "outputs": [],
   "source": [
    "import os\n",
    "import pandas as pd\n",
    "import numpy as np\n",
    "\n",
    "# Define folder paths relative to this notebook\n",
    "raw_dir = '../data/raw'\n",
    "processed_dir = '../data/processed'\n",
    "\n",
    "# Create folders if they don't exist\n",
    "os.makedirs(raw_dir, exist_ok=True)\n",
    "os.makedirs(processed_dir, exist_ok=True)\n",
    "\n",
    "# Define the sample data\n",
    "data = {\n",
    "    'age': [34, 45, 29, 50, 38, np.nan, 41],\n",
    "    'income': [55000, np.nan, 42000, 58000, np.nan, np.nan, 49000],\n",
    "    'score': [0.82, 0.91, np.nan, 0.76, 0.88, 0.65, 0.79],\n",
    "    'zipcode': ['90210', '10001', '60614', '94103', '73301', '12345', '94105'],\n",
    "    'city': ['Beverly', 'New York', 'Chicago', 'SF', 'Austin', 'Unknown', 'San Francisco'],\n",
    "    'extra_data': [np.nan, 42, np.nan, np.nan, np.nan, 5, np.nan]\n",
    "}\n",
    "\n",
    "# Create DataFrame\n",
    "df = pd.DataFrame(data)\n",
    "\n",
    "# Save to CSV in raw data folder\n",
    "csv_path = os.path.join(raw_dir, 'sample_data.csv')\n",
    "if not os.path.exists(csv_path):\n",
    "    df.to_csv(csv_path, index=False)\n",
    "    print(f'Sample dataset created and saved to {csv_path}')\n",
    "else:\n",
    "    print(f'File already exists at {csv_path}. Skipping CSV creation to avoid overwrite.')\n"
   ]
  },
  {
   "cell_type": "markdown",
   "metadata": {},
   "source": [
    "# Homework Starter — Stage 6: Data Preprocessing\n",
    "Use this notebook to apply your cleaning functions and save processed data."
   ]
  },
  {
   "cell_type": "code",
   "execution_count": null,
   "metadata": {},
   "outputs": [],
   "source": [
    "import pandas as pd\n",
    "from src import cleaning"
   ]
  },
  {
   "cell_type": "markdown",
   "metadata": {},
   "source": [
    "## Load Raw Dataset"
   ]
  },
  {
   "cell_type": "code",
   "execution_count": null,
   "metadata": {},
   "outputs": [],
   "source": [
    "df = pd.read_csv('../data/raw/sample_data.csv')\n",
    "df.head()"
   ]
  },
  {
   "cell_type": "markdown",
   "metadata": {},
   "source": [
    "## Apply Cleaning Functions"
   ]
  },
  {
   "cell_type": "code",
   "execution_count": null,
   "metadata": {},
   "outputs": [],
   "source": [
    "# TODO: Apply your functions here\n",
    "# Example:\n",
    "# df = cleaning.fill_missing_median(df, ['col1','col2'])\n",
    "# df = cleaning.drop_missing(df, threshold=0.5)\n",
    "# df = cleaning.normalize_data(df, ['col1','col2'])"
   ]
  },
  {
   "cell_type": "markdown",
   "metadata": {},
   "source": [
    "## Save Cleaned Dataset"
   ]
  },
  {
   "cell_type": "code",
   "execution_count": null,
   "metadata": {},
   "outputs": [],
   "source": [
    "# df.to_csv('../data/processed/sample_data_cleaned.csv', index=False)"
   ]
  },
  {
   "cell_type": "code",
   "execution_count": 1,
   "metadata": {},
   "outputs": [],
   "source": [
    "import pandas as pd\n",
    "from src import cleaning"
   ]
  },
  {
   "cell_type": "code",
   "execution_count": 2,
   "metadata": {},
   "outputs": [
    {
     "name": "stdout",
     "output_type": "stream",
     "text": [
      "Original Data:\n",
      "    age   salary\n",
      "0  20.0  50000.0\n",
      "1  25.0      NaN\n",
      "2   NaN  60000.0\n",
      "3  30.0  55000.0\n",
      "4   NaN      NaN\n",
      "\n",
      "After filling missing with median:\n",
      "    age   salary\n",
      "0  20.0  50000.0\n",
      "1  25.0  55000.0\n",
      "2  25.0  60000.0\n",
      "3  30.0  55000.0\n",
      "4  25.0  55000.0\n",
      "\n",
      "After dropping missing-heavy columns:\n",
      "    age   salary\n",
      "0  20.0  50000.0\n",
      "1  25.0      NaN\n",
      "2   NaN  60000.0\n",
      "3  30.0  55000.0\n",
      "4   NaN      NaN\n",
      "\n",
      "After normalization:\n",
      "   age  salary\n",
      "0  0.0     0.0\n",
      "1  0.5     0.5\n",
      "2  0.5     1.0\n",
      "3  1.0     0.5\n",
      "4  0.5     0.5\n"
     ]
    }
   ],
   "source": [
    "# Example just to test\n",
    "data = {\n",
    "    \"age\": [20, 25, None, 30, None],\n",
    "    \"salary\": [50000, None, 60000, 55000, None]\n",
    "}\n",
    "df = pd.DataFrame(data)\n",
    "\n",
    "print(\"Original Data:\")\n",
    "print(df)\n",
    "\n",
    "# Fill missing values\n",
    "df_filled = cleaning.fill_missing_median(df)\n",
    "print(\"\\nAfter filling missing with median:\")\n",
    "print(df_filled)\n",
    "\n",
    "# Drop columns with too many missing values\n",
    "df_dropped = cleaning.drop_missing(df, col_threshold=0.5)\n",
    "print(\"\\nAfter dropping missing-heavy columns:\")\n",
    "print(df_dropped)\n",
    "\n",
    "# Normalize\n",
    "df_normalized = cleaning.normalize_data(df_filled)\n",
    "print(\"\\nAfter normalization:\")\n",
    "print(df_normalized)"
   ]
  },
  {
   "cell_type": "code",
   "execution_count": 3,
   "metadata": {},
   "outputs": [
    {
     "name": "stdout",
     "output_type": "stream",
     "text": [
      "Using raw file: /Users/ivysingal/bootcamp_ivy_singal/data/raw/api_yfinance_AAPL_20250820-2218.csv\n",
      "Shape: (126, 7)\n",
      "\n",
      "First 5 rows:\n"
     ]
    },
    {
     "data": {
      "text/html": [
       "<div>\n",
       "<style scoped>\n",
       "    .dataframe tbody tr th:only-of-type {\n",
       "        vertical-align: middle;\n",
       "    }\n",
       "\n",
       "    .dataframe tbody tr th {\n",
       "        vertical-align: top;\n",
       "    }\n",
       "\n",
       "    .dataframe thead th {\n",
       "        text-align: right;\n",
       "    }\n",
       "</style>\n",
       "<table border=\"1\" class=\"dataframe\">\n",
       "  <thead>\n",
       "    <tr style=\"text-align: right;\">\n",
       "      <th></th>\n",
       "      <th>Date</th>\n",
       "      <th>Adj Close</th>\n",
       "      <th>Close</th>\n",
       "      <th>High</th>\n",
       "      <th>Low</th>\n",
       "      <th>Open</th>\n",
       "      <th>Volume</th>\n",
       "    </tr>\n",
       "  </thead>\n",
       "  <tbody>\n",
       "    <tr>\n",
       "      <th>0</th>\n",
       "      <td>NaN</td>\n",
       "      <td>AAPL</td>\n",
       "      <td>AAPL</td>\n",
       "      <td>AAPL</td>\n",
       "      <td>AAPL</td>\n",
       "      <td>AAPL</td>\n",
       "      <td>AAPL</td>\n",
       "    </tr>\n",
       "    <tr>\n",
       "      <th>1</th>\n",
       "      <td>2025-02-21</td>\n",
       "      <td>244.95042419433594</td>\n",
       "      <td>245.5500030517578</td>\n",
       "      <td>248.69000244140625</td>\n",
       "      <td>245.22000122070312</td>\n",
       "      <td>245.9499969482422</td>\n",
       "      <td>53197400</td>\n",
       "    </tr>\n",
       "    <tr>\n",
       "      <th>2</th>\n",
       "      <td>2025-02-24</td>\n",
       "      <td>246.49664306640625</td>\n",
       "      <td>247.10000610351562</td>\n",
       "      <td>248.86000061035156</td>\n",
       "      <td>244.4199981689453</td>\n",
       "      <td>244.92999267578125</td>\n",
       "      <td>51326400</td>\n",
       "    </tr>\n",
       "    <tr>\n",
       "      <th>3</th>\n",
       "      <td>2025-02-25</td>\n",
       "      <td>246.43678283691406</td>\n",
       "      <td>247.0399932861328</td>\n",
       "      <td>250.0</td>\n",
       "      <td>244.91000366210938</td>\n",
       "      <td>248.0</td>\n",
       "      <td>48013300</td>\n",
       "    </tr>\n",
       "    <tr>\n",
       "      <th>4</th>\n",
       "      <td>2025-02-26</td>\n",
       "      <td>239.77308654785156</td>\n",
       "      <td>240.36000061035156</td>\n",
       "      <td>244.97999572753906</td>\n",
       "      <td>239.1300048828125</td>\n",
       "      <td>244.3300018310547</td>\n",
       "      <td>44433600</td>\n",
       "    </tr>\n",
       "  </tbody>\n",
       "</table>\n",
       "</div>"
      ],
      "text/plain": [
       "         Date           Adj Close               Close                High  \\\n",
       "0         NaN                AAPL                AAPL                AAPL   \n",
       "1  2025-02-21  244.95042419433594   245.5500030517578  248.69000244140625   \n",
       "2  2025-02-24  246.49664306640625  247.10000610351562  248.86000061035156   \n",
       "3  2025-02-25  246.43678283691406   247.0399932861328               250.0   \n",
       "4  2025-02-26  239.77308654785156  240.36000061035156  244.97999572753906   \n",
       "\n",
       "                  Low                Open    Volume  \n",
       "0                AAPL                AAPL      AAPL  \n",
       "1  245.22000122070312   245.9499969482422  53197400  \n",
       "2   244.4199981689453  244.92999267578125  51326400  \n",
       "3  244.91000366210938               248.0  48013300  \n",
       "4   239.1300048828125   244.3300018310547  44433600  "
      ]
     },
     "metadata": {},
     "output_type": "display_data"
    },
    {
     "name": "stdout",
     "output_type": "stream",
     "text": [
      "\n",
      "Missing % by column (top 15):\n"
     ]
    },
    {
     "data": {
      "text/plain": [
       "Date         0.007937\n",
       "Adj Close    0.000000\n",
       "Close        0.000000\n",
       "High         0.000000\n",
       "Low          0.000000\n",
       "Open         0.000000\n",
       "Volume       0.000000\n",
       "dtype: float64"
      ]
     },
     "metadata": {},
     "output_type": "display_data"
    }
   ],
   "source": [
    "import os, glob, pandas as pd\n",
    "from pathlib import Path\n",
    "\n",
    "# 1) Locate the repo root by walking up until we find a \"data\" folder\n",
    "here = Path.cwd()\n",
    "candidates = [here, here.parent, here.parent.parent, here.parent.parent.parent]\n",
    "repo_root = None\n",
    "for c in candidates:\n",
    "    if (c / \"data\").exists():\n",
    "        repo_root = c\n",
    "        break\n",
    "\n",
    "if repo_root is None:\n",
    "    raise FileNotFoundError(\"Couldn't find a 'data' folder. Make sure you're running this inside your repo.\")\n",
    "\n",
    "raw_dir = repo_root / \"data\" / \"raw\"\n",
    "processed_dir = repo_root / \"data\" / \"processed\"\n",
    "processed_dir.mkdir(parents=True, exist_ok=True)\n",
    "\n",
    "# 2) Pick a CSV in data/raw\n",
    "csvs = sorted(glob.glob(str(raw_dir / \"*.csv\")))\n",
    "if not csvs:\n",
    "    raise FileNotFoundError(f\"No CSV files found in {raw_dir}. Put your raw CSV there and run again.\")\n",
    "\n",
    "raw_path = Path(csvs[0])\n",
    "print(f\"Using raw file: {raw_path}\")\n",
    "\n",
    "# 3) Load and preview\n",
    "df = pd.read_csv(raw_path)\n",
    "print(\"Shape:\", df.shape)\n",
    "print(\"\\nFirst 5 rows:\")\n",
    "display(df.head())\n",
    "\n",
    "# 4) Quick missing-value summary\n",
    "na_pct = df.isna().mean().sort_values(ascending=False)\n",
    "print(\"\\nMissing % by column (top 15):\")\n",
    "display(na_pct.head(15))"
   ]
  },
  {
   "cell_type": "code",
   "execution_count": 3,
   "metadata": {},
   "outputs": [
    {
     "name": "stdout",
     "output_type": "stream",
     "text": [
      "Imported cleaning from: /Users/ivysingal/bootcamp_ivy_singal/src/cleaning.py\n"
     ]
    }
   ],
   "source": [
    "# Make sure we can import from your repo\n",
    "import sys\n",
    "from pathlib import Path\n",
    "\n",
    "# Walk up to find the repo that contains \"src/\"\n",
    "here = Path.cwd()\n",
    "for c in [here, here.parent, here.parent.parent, here.parent.parent.parent]:\n",
    "    if (c / \"src\").exists():\n",
    "        sys.path.insert(0, str(c))  # add repo root to Python path\n",
    "        break\n",
    "\n",
    "import pandas as pd\n",
    "from src import cleaning\n",
    "print(\"Imported cleaning from:\", cleaning.__file__)"
   ]
  },
  {
   "cell_type": "code",
   "execution_count": 5,
   "metadata": {},
   "outputs": [
    {
     "name": "stdout",
     "output_type": "stream",
     "text": [
      "Using: /Users/ivysingal/bootcamp_ivy_singal/data/raw/api_yfinance_AAPL_20250820-2218.csv\n",
      "Shape: (126, 7)\n"
     ]
    },
    {
     "data": {
      "text/html": [
       "<div>\n",
       "<style scoped>\n",
       "    .dataframe tbody tr th:only-of-type {\n",
       "        vertical-align: middle;\n",
       "    }\n",
       "\n",
       "    .dataframe tbody tr th {\n",
       "        vertical-align: top;\n",
       "    }\n",
       "\n",
       "    .dataframe thead th {\n",
       "        text-align: right;\n",
       "    }\n",
       "</style>\n",
       "<table border=\"1\" class=\"dataframe\">\n",
       "  <thead>\n",
       "    <tr style=\"text-align: right;\">\n",
       "      <th></th>\n",
       "      <th>Date</th>\n",
       "      <th>Adj Close</th>\n",
       "      <th>Close</th>\n",
       "      <th>High</th>\n",
       "      <th>Low</th>\n",
       "      <th>Open</th>\n",
       "      <th>Volume</th>\n",
       "    </tr>\n",
       "  </thead>\n",
       "  <tbody>\n",
       "    <tr>\n",
       "      <th>0</th>\n",
       "      <td>NaN</td>\n",
       "      <td>AAPL</td>\n",
       "      <td>AAPL</td>\n",
       "      <td>AAPL</td>\n",
       "      <td>AAPL</td>\n",
       "      <td>AAPL</td>\n",
       "      <td>AAPL</td>\n",
       "    </tr>\n",
       "    <tr>\n",
       "      <th>1</th>\n",
       "      <td>2025-02-21</td>\n",
       "      <td>244.95042419433594</td>\n",
       "      <td>245.5500030517578</td>\n",
       "      <td>248.69000244140625</td>\n",
       "      <td>245.22000122070312</td>\n",
       "      <td>245.9499969482422</td>\n",
       "      <td>53197400</td>\n",
       "    </tr>\n",
       "    <tr>\n",
       "      <th>2</th>\n",
       "      <td>2025-02-24</td>\n",
       "      <td>246.49664306640625</td>\n",
       "      <td>247.10000610351562</td>\n",
       "      <td>248.86000061035156</td>\n",
       "      <td>244.4199981689453</td>\n",
       "      <td>244.92999267578125</td>\n",
       "      <td>51326400</td>\n",
       "    </tr>\n",
       "    <tr>\n",
       "      <th>3</th>\n",
       "      <td>2025-02-25</td>\n",
       "      <td>246.43678283691406</td>\n",
       "      <td>247.0399932861328</td>\n",
       "      <td>250.0</td>\n",
       "      <td>244.91000366210938</td>\n",
       "      <td>248.0</td>\n",
       "      <td>48013300</td>\n",
       "    </tr>\n",
       "    <tr>\n",
       "      <th>4</th>\n",
       "      <td>2025-02-26</td>\n",
       "      <td>239.77308654785156</td>\n",
       "      <td>240.36000061035156</td>\n",
       "      <td>244.97999572753906</td>\n",
       "      <td>239.1300048828125</td>\n",
       "      <td>244.3300018310547</td>\n",
       "      <td>44433600</td>\n",
       "    </tr>\n",
       "  </tbody>\n",
       "</table>\n",
       "</div>"
      ],
      "text/plain": [
       "         Date           Adj Close               Close                High  \\\n",
       "0         NaN                AAPL                AAPL                AAPL   \n",
       "1  2025-02-21  244.95042419433594   245.5500030517578  248.69000244140625   \n",
       "2  2025-02-24  246.49664306640625  247.10000610351562  248.86000061035156   \n",
       "3  2025-02-25  246.43678283691406   247.0399932861328               250.0   \n",
       "4  2025-02-26  239.77308654785156  240.36000061035156  244.97999572753906   \n",
       "\n",
       "                  Low                Open    Volume  \n",
       "0                AAPL                AAPL      AAPL  \n",
       "1  245.22000122070312   245.9499969482422  53197400  \n",
       "2   244.4199981689453  244.92999267578125  51326400  \n",
       "3  244.91000366210938               248.0  48013300  \n",
       "4   239.1300048828125   244.3300018310547  44433600  "
      ]
     },
     "execution_count": 5,
     "metadata": {},
     "output_type": "execute_result"
    }
   ],
   "source": [
    "import glob\n",
    "from pathlib import Path\n",
    "import pandas as pd\n",
    "\n",
    "# find repo root (folder that has \"data\")\n",
    "here = Path.cwd()\n",
    "repo_root = None\n",
    "for c in [here, here.parent, here.parent.parent, here.parent.parent.parent]:\n",
    "    if (c / \"data\").exists():\n",
    "        repo_root = c\n",
    "        break\n",
    "assert repo_root is not None, \"Can't find repo root with a 'data' folder.\"\n",
    "\n",
    "raw_dir = repo_root / \"data\" / \"raw\"\n",
    "csvs = sorted(glob.glob(str(raw_dir / \"*.csv\")))\n",
    "assert csvs, f\"No CSVs found in {raw_dir}\"\n",
    "raw_path = Path(csvs[0])\n",
    "\n",
    "print(\"Using:\", raw_path)\n",
    "df = pd.read_csv(raw_path)\n",
    "print(\"Shape:\", df.shape)\n",
    "df.head()"
   ]
  },
  {
   "cell_type": "code",
   "execution_count": 6,
   "metadata": {},
   "outputs": [
    {
     "name": "stdout",
     "output_type": "stream",
     "text": [
      "✅ Missing values filled\n",
      "✅ Dropped missing-heavy columns/rows\n",
      "✅ Normalized numeric columns\n"
     ]
    },
    {
     "data": {
      "text/html": [
       "<div>\n",
       "<style scoped>\n",
       "    .dataframe tbody tr th:only-of-type {\n",
       "        vertical-align: middle;\n",
       "    }\n",
       "\n",
       "    .dataframe tbody tr th {\n",
       "        vertical-align: top;\n",
       "    }\n",
       "\n",
       "    .dataframe thead th {\n",
       "        text-align: right;\n",
       "    }\n",
       "</style>\n",
       "<table border=\"1\" class=\"dataframe\">\n",
       "  <thead>\n",
       "    <tr style=\"text-align: right;\">\n",
       "      <th></th>\n",
       "      <th>Date</th>\n",
       "      <th>Adj Close</th>\n",
       "      <th>Close</th>\n",
       "      <th>High</th>\n",
       "      <th>Low</th>\n",
       "      <th>Open</th>\n",
       "      <th>Volume</th>\n",
       "    </tr>\n",
       "  </thead>\n",
       "  <tbody>\n",
       "    <tr>\n",
       "      <th>0</th>\n",
       "      <td>NaN</td>\n",
       "      <td>AAPL</td>\n",
       "      <td>AAPL</td>\n",
       "      <td>AAPL</td>\n",
       "      <td>AAPL</td>\n",
       "      <td>AAPL</td>\n",
       "      <td>AAPL</td>\n",
       "    </tr>\n",
       "    <tr>\n",
       "      <th>1</th>\n",
       "      <td>2025-02-21</td>\n",
       "      <td>244.95042419433594</td>\n",
       "      <td>245.5500030517578</td>\n",
       "      <td>248.69000244140625</td>\n",
       "      <td>245.22000122070312</td>\n",
       "      <td>245.9499969482422</td>\n",
       "      <td>53197400</td>\n",
       "    </tr>\n",
       "    <tr>\n",
       "      <th>2</th>\n",
       "      <td>2025-02-24</td>\n",
       "      <td>246.49664306640625</td>\n",
       "      <td>247.10000610351562</td>\n",
       "      <td>248.86000061035156</td>\n",
       "      <td>244.4199981689453</td>\n",
       "      <td>244.92999267578125</td>\n",
       "      <td>51326400</td>\n",
       "    </tr>\n",
       "    <tr>\n",
       "      <th>3</th>\n",
       "      <td>2025-02-25</td>\n",
       "      <td>246.43678283691406</td>\n",
       "      <td>247.0399932861328</td>\n",
       "      <td>250.0</td>\n",
       "      <td>244.91000366210938</td>\n",
       "      <td>248.0</td>\n",
       "      <td>48013300</td>\n",
       "    </tr>\n",
       "    <tr>\n",
       "      <th>4</th>\n",
       "      <td>2025-02-26</td>\n",
       "      <td>239.77308654785156</td>\n",
       "      <td>240.36000061035156</td>\n",
       "      <td>244.97999572753906</td>\n",
       "      <td>239.1300048828125</td>\n",
       "      <td>244.3300018310547</td>\n",
       "      <td>44433600</td>\n",
       "    </tr>\n",
       "  </tbody>\n",
       "</table>\n",
       "</div>"
      ],
      "text/plain": [
       "         Date           Adj Close               Close                High  \\\n",
       "0         NaN                AAPL                AAPL                AAPL   \n",
       "1  2025-02-21  244.95042419433594   245.5500030517578  248.69000244140625   \n",
       "2  2025-02-24  246.49664306640625  247.10000610351562  248.86000061035156   \n",
       "3  2025-02-25  246.43678283691406   247.0399932861328               250.0   \n",
       "4  2025-02-26  239.77308654785156  240.36000061035156  244.97999572753906   \n",
       "\n",
       "                  Low                Open    Volume  \n",
       "0                AAPL                AAPL      AAPL  \n",
       "1  245.22000122070312   245.9499969482422  53197400  \n",
       "2   244.4199981689453  244.92999267578125  51326400  \n",
       "3  244.91000366210938               248.0  48013300  \n",
       "4   239.1300048828125   244.3300018310547  44433600  "
      ]
     },
     "execution_count": 6,
     "metadata": {},
     "output_type": "execute_result"
    }
   ],
   "source": [
    "# 1) Fill missing values with medians\n",
    "df_clean = cleaning.fill_missing_median(df)\n",
    "print(\"✅ Missing values filled\")\n",
    "\n",
    "# 2) Drop columns >=50% missing + rows >=70% missing\n",
    "df_clean = cleaning.drop_missing(df_clean, col_threshold=0.5, row_threshold=0.7)\n",
    "print(\"✅ Dropped missing-heavy columns/rows\")\n",
    "\n",
    "# 3) Normalize numeric columns\n",
    "df_clean = cleaning.normalize_data(df_clean)\n",
    "print(\"✅ Normalized numeric columns\")\n",
    "\n",
    "# Preview cleaned data\n",
    "df_clean.head()"
   ]
  },
  {
   "cell_type": "code",
   "execution_count": 7,
   "metadata": {},
   "outputs": [
    {
     "name": "stdout",
     "output_type": "stream",
     "text": [
      "✅ Cleaned dataset saved to: /Users/ivysingal/bootcamp_ivy_singal/data/processed/sample_data_cleaned.csv\n"
     ]
    }
   ],
   "source": [
    "# Ensure processed directory exists\n",
    "processed_dir = repo_root / \"data\" / \"processed\"\n",
    "processed_dir.mkdir(parents=True, exist_ok=True)\n",
    "\n",
    "# Save cleaned dataset\n",
    "out_path = processed_dir / \"sample_data_cleaned.csv\"\n",
    "df_clean.to_csv(out_path, index=False)\n",
    "\n",
    "print(f\"✅ Cleaned dataset saved to: {out_path}\")"
   ]
  },
  {
   "cell_type": "code",
   "execution_count": null,
   "metadata": {},
   "outputs": [],
   "source": []
  }
 ],
 "metadata": {
  "kernelspec": {
   "display_name": "Python 3 (ipykernel)",
   "language": "python",
   "name": "python3"
  },
  "language_info": {
   "codemirror_mode": {
    "name": "ipython",
    "version": 3
   },
   "file_extension": ".py",
   "mimetype": "text/x-python",
   "name": "python",
   "nbconvert_exporter": "python",
   "pygments_lexer": "ipython3",
   "version": "3.13.5"
  }
 },
 "nbformat": 4,
 "nbformat_minor": 4
}
