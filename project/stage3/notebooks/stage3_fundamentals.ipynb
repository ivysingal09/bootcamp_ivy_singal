{
 "cells": [
  {
   "cell_type": "code",
   "execution_count": 1,
   "id": "9d3d0937-9cbe-4e0d-adae-08a091754493",
   "metadata": {},
   "outputs": [],
   "source": [
    "import numpy as np\n",
    "import pandas as pd"
   ]
  },
  {
   "cell_type": "code",
   "execution_count": 2,
   "id": "5beb6ade-86da-441f-bc0a-b05d52196158",
   "metadata": {},
   "outputs": [
    {
     "name": "stdout",
     "output_type": "stream",
     "text": [
      "Array: [1 2 3 4 5]\n",
      "Mean: 3.0\n",
      "Sum: 15\n",
      "Squared: [ 1  4  9 16 25]\n"
     ]
    }
   ],
   "source": [
    "# Create a simple NumPy array\n",
    "arr = np.array([1, 2, 3, 4, 5])\n",
    "print(\"Array:\", arr)\n",
    "\n",
    "# Basic operations\n",
    "print(\"Mean:\", arr.mean())\n",
    "print(\"Sum:\", arr.sum())\n",
    "print(\"Squared:\", arr ** 2)"
   ]
  },
  {
   "cell_type": "code",
   "execution_count": 3,
   "id": "a99d4451-380f-4d2c-81ac-7c761d28d403",
   "metadata": {},
   "outputs": [
    {
     "name": "stdout",
     "output_type": "stream",
     "text": [
      "      Name  Age City\n",
      "0    Alice   25   NY\n",
      "1      Bob   30   SF\n",
      "2  Charlie   35   LA\n",
      "Names: ['Alice', 'Bob', 'Charlie']\n",
      "Average Age: 30.0\n"
     ]
    }
   ],
   "source": [
    "# Create a simple DataFrame\n",
    "data = {\n",
    "    \"Name\": [\"Alice\", \"Bob\", \"Charlie\"],\n",
    "    \"Age\": [25, 30, 35],\n",
    "    \"City\": [\"NY\", \"SF\", \"LA\"]\n",
    "}\n",
    "df = pd.DataFrame(data)\n",
    "\n",
    "print(df)\n",
    "\n",
    "# Select a column\n",
    "print(\"Names:\", df[\"Name\"].tolist())\n",
    "\n",
    "# Basic stats\n",
    "print(\"Average Age:\", df[\"Age\"].mean())"
   ]
  },
  {
   "cell_type": "code",
   "execution_count": 4,
   "id": "15fdb53d-64fc-4082-8753-f98114e1d7e6",
   "metadata": {},
   "outputs": [
    {
     "name": "stdout",
     "output_type": "stream",
     "text": [
      "First two: [1 2]\n",
      "First row:\n",
      " Name    Alice\n",
      "Age        25\n",
      "City       NY\n",
      "Name: 0, dtype: object\n",
      "Name column:\n",
      " 0      Alice\n",
      "1        Bob\n",
      "2    Charlie\n",
      "Name: Name, dtype: object\n"
     ]
    }
   ],
   "source": [
    "# Select first two elements from array\n",
    "print(\"First two:\", arr[:2])\n",
    "\n",
    "# Select first row from DataFrame\n",
    "print(\"First row:\\n\", df.iloc[0])\n",
    "\n",
    "# Select Name column only\n",
    "print(\"Name column:\\n\", df[\"Name\"])"
   ]
  },
  {
   "cell_type": "code",
   "execution_count": 5,
   "id": "d4c726bb-25ad-432a-be1f-f992ad098bda",
   "metadata": {},
   "outputs": [
    {
     "name": "stdout",
     "output_type": "stream",
     "text": [
      "People older than 28:\n",
      "       Name  Age City\n",
      "1      Bob   30   SF\n",
      "2  Charlie   35   LA\n"
     ]
    }
   ],
   "source": [
    "# Filter people older than 28\n",
    "older = df[df[\"Age\"] > 28]\n",
    "print(\"People older than 28:\\n\", older)"
   ]
  },
  {
   "cell_type": "code",
   "execution_count": 6,
   "id": "08244cd5-5704-4f24-9555-d3d6919ec0de",
   "metadata": {},
   "outputs": [
    {
     "name": "stdout",
     "output_type": "stream",
     "text": [
      "      Name  Age City  Age_in_5_years\n",
      "0    Alice   25   NY              30\n",
      "1      Bob   30   SF              35\n",
      "2  Charlie   35   LA              40\n"
     ]
    }
   ],
   "source": [
    "# Add a new column \"Age in 5 years\"\n",
    "df[\"Age_in_5_years\"] = df[\"Age\"] + 5\n",
    "print(df)\n"
   ]
  },
  {
   "cell_type": "code",
   "execution_count": null,
   "id": "5a87c695-42e7-45ce-ae97-07bba5125bee",
   "metadata": {},
   "outputs": [],
   "source": []
  }
 ],
 "metadata": {
  "kernelspec": {
   "display_name": "Python 3 (ipykernel)",
   "language": "python",
   "name": "python3"
  },
  "language_info": {
   "codemirror_mode": {
    "name": "ipython",
    "version": 3
   },
   "file_extension": ".py",
   "mimetype": "text/x-python",
   "name": "python",
   "nbconvert_exporter": "python",
   "pygments_lexer": "ipython3",
   "version": "3.13.5"
  }
 },
 "nbformat": 4,
 "nbformat_minor": 5
}
