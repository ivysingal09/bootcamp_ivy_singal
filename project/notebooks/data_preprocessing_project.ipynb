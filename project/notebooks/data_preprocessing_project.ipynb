{
 "cells": [
  {"cell_type":"markdown","metadata":{},"source":["# Stage 6 — Data Preprocessing (Project)"]},
  {"cell_type":"code","metadata":{},"source":[
    "from cleaning_project import load_prices, preprocess_prices, save_processed\\n",
    "raw_path = 'project/data/raw/IYR_raw_project.csv'\\n",
    "df = load_prices(raw_path)\\n",
    "df = preprocess_prices(df)\\n",
    "out = save_processed(df, 'IYR_processed_project.csv')\\n",
    "out"
  ]}
 ],
 "metadata":{"kernelspec":{"display_name":"Python 3","language":"python","name":"python3"}},
 "nbformat":4,"nbformat_minor":2
}
