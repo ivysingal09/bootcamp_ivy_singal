{
 "cells": [
  {"cell_type":"markdown","metadata":{},"source":["# Stage 6 — Data Preprocessing (yfinance)\\nLoads raw VNQ prices and saves a processed file with daily returns."]},
  {"cell_type":"code","metadata":{},"source":[
    "import os, pandas as pd\\n",
    "raw_path = 'project/data/raw/VNQ_raw_project.csv'\\n",
    "df = pd.read_csv(raw_path)\\n",
    "df['Date'] = pd.to_datetime(df['Date'])\\n",
    "df = df.sort_values('Date')\\n",
    "df['daily_return'] = df['Adj Close'].pct_change()\\n",
    "out_path = 'project/data/processed/VNQ_processed_project.csv'\\n",
    "os.makedirs(os.path.dirname(out_path), exist_ok=True)\\n",
    "df.to_csv(out_path, index=False)\\n",
    "out_path"
  ]}
 ],
 "metadata":{"kernelspec":{"display_name":"Python 3","language":"python","name":"python3"}},
 "nbformat":4,"nbformat_minor":2
}
