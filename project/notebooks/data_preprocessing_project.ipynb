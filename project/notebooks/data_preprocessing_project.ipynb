{
 "cells": [
  {
   "cell_type": "markdown",
   "metadata": {},
   "source": [
    "# Stage 6 — Data Preprocessing (Project)"
   ]
  },
  {
   "cell_type": "code",
   "execution_count": 6,
   "metadata": {},
   "outputs": [],
   "source": [
    "from pathlib import Path\n",
    "import sys\n",
    "import os\n",
    "\n",
    "# add src folder to Python path\n",
    "sys.path.append(str(Path.cwd().parent / \"src\"))\n",
    "\n",
    "from cleaning_project import load_prices, preprocess_prices, save_processed"
   ]
  },
  {
   "cell_type": "code",
   "execution_count": 7,
   "metadata": {},
   "outputs": [
    {
     "name": "stdout",
     "output_type": "stream",
     "text": [
      "Saved at: /Users/ivysingal/bootcamp_ivy_singal/project/data/processed/IYR_processed_project.csv\n",
      "Exists after save: True\n"
     ]
    },
    {
     "name": "stderr",
     "output_type": "stream",
     "text": [
      "/Users/ivysingal/bootcamp_ivy_singal/project/src/cleaning_project.py:16: FutureWarning: The default fill_method='pad' in Series.pct_change is deprecated and will be removed in a future version. Either fill in any non-leading NA values prior to calling pct_change or specify 'fill_method=None' to not fill NA values.\n",
      "  df[\"daily_return\"] = df[price_col].pct_change()\n"
     ]
    }
   ],
   "source": [
    "# input raw file\n",
    "raw_path = Path.cwd().parent / \"data\" / \"raw\" / \"IYR_raw_project.csv\"\n",
    "\n",
    "# output file (processed)\n",
    "out_path = Path.cwd().parent / \"data\" / \"processed\" / \"IYR_processed_project.csv\"\n",
    "\n",
    "# run preprocessing\n",
    "df = load_prices(raw_path)\n",
    "df = preprocess_prices(df)\n",
    "out = save_processed(df, str(out_path))\n",
    "\n",
    "print(\"Saved at:\", out_path)\n",
    "print(\"Exists after save:\", out_path.exists())"
   ]
  },
  {
   "cell_type": "code",
   "execution_count": 8,
   "metadata": {},
   "outputs": [
    {
     "name": "stdout",
     "output_type": "stream",
     "text": [
      "Files in processed: ['IYR_processed_project.csv', 'house_prices_processed_project.csv']\n"
     ]
    }
   ],
   "source": [
    "print(\"Files in processed:\", os.listdir(Path.cwd().parent / \"data\" / \"processed\"))"
   ]
  },
  {
   "cell_type": "code",
   "execution_count": null,
   "metadata": {},
   "outputs": [],
   "source": []
  }
 ],
 "metadata": {
  "kernelspec": {
   "display_name": "Python 3 (ipykernel)",
   "language": "python",
   "name": "python3"
  },
  "language_info": {
   "codemirror_mode": {
    "name": "ipython",
    "version": 3
   },
   "file_extension": ".py",
   "mimetype": "text/x-python",
   "name": "python",
   "nbconvert_exporter": "python",
   "pygments_lexer": "ipython3",
   "version": "3.13.5"
  }
 },
 "nbformat": 4,
 "nbformat_minor": 4
}
