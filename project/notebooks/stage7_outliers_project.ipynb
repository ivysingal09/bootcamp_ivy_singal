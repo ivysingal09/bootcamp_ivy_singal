{
 "cells": [
  {
   "cell_type": "code",
   "metadata": {},
   "source": [
    "import sys\n",
    "from pathlib import Path\n",
    "sys.path.append(str(Path.cwd().parent / \"src\"))"
   ]
  },
  {
   "cell_type": "code",
   "metadata": {},
   "source": [
    "import pandas as pd\n",
    "from outliers_project import remove_outliers\n",
    "df = pd.read_csv(\"../data/processed/IYR_processed_project.csv\")\n",
    "len_before = len(df)\n",
    "clean_df = remove_outliers(df, column=\"daily_return\", method=\"zscore\", threshold=3)\n",
    "len_after = len(clean_df)\n",
    "print(\"before\", len_before)\n",
    "print(\"after\", len_after)\n",
    "clean_df.to_csv(\"../data/processed/IYR_cleaned_project.csv\", index=False)\n",
    "print(\"saved\", \"../data/processed/IYR_cleaned_project.csv\")"
   ]
  }
 ],
 "metadata": {
  "kernelspec": { "display_name": "Python 3", "language": "python", "name": "python3" },
  "language_info": { "name": "python", "version": "3.9" }
 },
 "nbformat": 4,
 "nbformat_minor": 2
}
