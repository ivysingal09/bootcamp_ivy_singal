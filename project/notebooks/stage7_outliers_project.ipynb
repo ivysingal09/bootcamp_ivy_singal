{
 "cells": [
  {
   "cell_type": "code",
   "execution_count": 3,
   "metadata": {},
   "outputs": [
    {
     "name": "stdout",
     "output_type": "stream",
     "text": [
      "Input exists?  True  →  /Users/ivysingal/bootcamp_ivy_singal/project/data/processed/IYR_processed_project.csv\n",
      "Will write to:  /Users/ivysingal/bootcamp_ivy_singal/project/data/processed/IYR_cleaned_project.csv\n"
     ]
    }
   ],
   "source": [
    "from pathlib import Path\n",
    "import sys, pandas as pd\n",
    "\n",
    "# Let notebook import from /project/src\n",
    "sys.path.append(str((Path.cwd().parent) / \"src\"))\n",
    "\n",
    "# Import your function\n",
    "from outliers_project import remove_outliers\n",
    "\n",
    "# Paths\n",
    "repo = Path.cwd().parent                 # .../project\n",
    "proc_dir = repo / \"data\" / \"processed\"\n",
    "in_path  = proc_dir / \"IYR_processed_project.csv\"   # made in Stage 6\n",
    "out_path = proc_dir / \"IYR_cleaned_project.csv\"     # new file we’ll write\n",
    "\n",
    "print(\"Input exists? \", in_path.exists(), \" → \", in_path)\n",
    "print(\"Will write to: \", out_path)"
   ]
  },
  {
   "cell_type": "code",
   "execution_count": 4,
   "metadata": {},
   "outputs": [
    {
     "name": "stdout",
     "output_type": "stream",
     "text": [
      "(502, 7)\n",
      "['Date', 'Close', 'High', 'Low', 'Open', 'Volume', 'daily_return']\n"
     ]
    },
    {
     "data": {
      "text/html": [
       "<div>\n",
       "<style scoped>\n",
       "    .dataframe tbody tr th:only-of-type {\n",
       "        vertical-align: middle;\n",
       "    }\n",
       "\n",
       "    .dataframe tbody tr th {\n",
       "        vertical-align: top;\n",
       "    }\n",
       "\n",
       "    .dataframe thead th {\n",
       "        text-align: right;\n",
       "    }\n",
       "</style>\n",
       "<table border=\"1\" class=\"dataframe\">\n",
       "  <thead>\n",
       "    <tr style=\"text-align: right;\">\n",
       "      <th></th>\n",
       "      <th>Date</th>\n",
       "      <th>Close</th>\n",
       "      <th>High</th>\n",
       "      <th>Low</th>\n",
       "      <th>Open</th>\n",
       "      <th>Volume</th>\n",
       "      <th>daily_return</th>\n",
       "    </tr>\n",
       "  </thead>\n",
       "  <tbody>\n",
       "    <tr>\n",
       "      <th>0</th>\n",
       "      <td>2022-01-03</td>\n",
       "      <td>105.180428</td>\n",
       "      <td>106.54012397203245</td>\n",
       "      <td>103.64734454667442</td>\n",
       "      <td>106.31198666159982</td>\n",
       "      <td>13194000</td>\n",
       "      <td>NaN</td>\n",
       "    </tr>\n",
       "    <tr>\n",
       "      <th>1</th>\n",
       "      <td>2022-01-04</td>\n",
       "      <td>104.979668</td>\n",
       "      <td>105.98347045673019</td>\n",
       "      <td>104.84278388218969</td>\n",
       "      <td>105.47244509923952</td>\n",
       "      <td>9363000</td>\n",
       "      <td>-0.001909</td>\n",
       "    </tr>\n",
       "    <tr>\n",
       "      <th>2</th>\n",
       "      <td>2022-01-05</td>\n",
       "      <td>101.867874</td>\n",
       "      <td>104.8610416475952</td>\n",
       "      <td>101.79487549400208</td>\n",
       "      <td>104.71503042018671</td>\n",
       "      <td>12110000</td>\n",
       "      <td>-0.029642</td>\n",
       "    </tr>\n",
       "    <tr>\n",
       "      <th>3</th>\n",
       "      <td>2022-01-06</td>\n",
       "      <td>101.849625</td>\n",
       "      <td>102.32414719106457</td>\n",
       "      <td>100.84582182871513</td>\n",
       "      <td>101.96825353255834</td>\n",
       "      <td>7920600</td>\n",
       "      <td>-0.000179</td>\n",
       "    </tr>\n",
       "    <tr>\n",
       "      <th>4</th>\n",
       "      <td>2022-01-07</td>\n",
       "      <td>101.165215</td>\n",
       "      <td>101.86787442636896</td>\n",
       "      <td>100.88232648743846</td>\n",
       "      <td>101.5667384528561</td>\n",
       "      <td>7883300</td>\n",
       "      <td>-0.006720</td>\n",
       "    </tr>\n",
       "  </tbody>\n",
       "</table>\n",
       "</div>"
      ],
      "text/plain": [
       "         Date       Close                High                 Low  \\\n",
       "0  2022-01-03  105.180428  106.54012397203245  103.64734454667442   \n",
       "1  2022-01-04  104.979668  105.98347045673019  104.84278388218969   \n",
       "2  2022-01-05  101.867874   104.8610416475952  101.79487549400208   \n",
       "3  2022-01-06  101.849625  102.32414719106457  100.84582182871513   \n",
       "4  2022-01-07  101.165215  101.86787442636896  100.88232648743846   \n",
       "\n",
       "                 Open    Volume  daily_return  \n",
       "0  106.31198666159982  13194000           NaN  \n",
       "1  105.47244509923952   9363000     -0.001909  \n",
       "2  104.71503042018671  12110000     -0.029642  \n",
       "3  101.96825353255834   7920600     -0.000179  \n",
       "4   101.5667384528561   7883300     -0.006720  "
      ]
     },
     "execution_count": 4,
     "metadata": {},
     "output_type": "execute_result"
    }
   ],
   "source": [
    "df = pd.read_csv(in_path)\n",
    "print(df.shape)\n",
    "print(df.columns.tolist())   # look for 'daily_return'\n",
    "df.head()"
   ]
  },
  {
   "cell_type": "code",
   "execution_count": 5,
   "metadata": {},
   "outputs": [
    {
     "name": "stdout",
     "output_type": "stream",
     "text": [
      "Rows before: 501  → after: 497\n"
     ]
    },
    {
     "data": {
      "text/plain": [
       "count    497.000000\n",
       "mean      -0.000314\n",
       "std        0.013258\n",
       "min       -0.042372\n",
       "25%       -0.008389\n",
       "50%       -0.001033\n",
       "75%        0.008016\n",
       "max        0.039843\n",
       "Name: daily_return, dtype: float64"
      ]
     },
     "execution_count": 5,
     "metadata": {},
     "output_type": "execute_result"
    }
   ],
   "source": [
    "# drop NaNs first so z-score math is clean\n",
    "df2 = df.dropna(subset=[\"daily_return\"]).copy()\n",
    "\n",
    "# z-score method, threshold 3 (you can change to method=\"iqr\", threshold=1.5 later)\n",
    "clean_df = remove_outliers(df2, \"daily_return\", method=\"zscore\", threshold=3.0)\n",
    "\n",
    "print(\"Rows before:\", len(df2), \" → after:\", len(clean_df))\n",
    "clean_df[\"daily_return\"].describe()"
   ]
  },
  {
   "cell_type": "code",
   "execution_count": 6,
   "metadata": {},
   "outputs": [
    {
     "name": "stdout",
     "output_type": "stream",
     "text": [
      "Saved: /Users/ivysingal/bootcamp_ivy_singal/project/data/processed/IYR_cleaned_project.csv\n",
      "Exists now?  True\n"
     ]
    }
   ],
   "source": [
    "out_path.parent.mkdir(parents=True, exist_ok=True)\n",
    "clean_df.to_csv(out_path, index=False)\n",
    "\n",
    "print(\"Saved:\", out_path)\n",
    "print(\"Exists now? \", out_path.exists())"
   ]
  },
  {
   "cell_type": "code",
   "execution_count": null,
   "metadata": {},
   "outputs": [],
   "source": []
  }
 ],
 "metadata": {
  "kernelspec": {
   "display_name": "Python 3 (ipykernel)",
   "language": "python",
   "name": "python3"
  },
  "language_info": {
   "codemirror_mode": {
    "name": "ipython",
    "version": 3
   },
   "file_extension": ".py",
   "mimetype": "text/x-python",
   "name": "python",
   "nbconvert_exporter": "python",
   "pygments_lexer": "ipython3",
   "version": "3.13.5"
  }
 },
 "nbformat": 4,
 "nbformat_minor": 4
}
