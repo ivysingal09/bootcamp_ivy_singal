{
 "cells": [
  {
   "cell_type": "markdown",
   "metadata": {},
   "source": [
    "# Stage 10a – Linear Regression Project\n",
    "\n",
    "Baseline regression model on engineered features to predict daily returns."
   ]
  },
  {
   "cell_type": "code",
   "metadata": {},
   "source": [
    "import pandas as pd\n",
    "from pathlib import Path\n",
    "\n",
    "# Load dataset with engineered features (Stage 9)\n",
    "data_path = Path(\"../data/processed/IYR_features_project.csv\")\n",
    "df = pd.read_csv(data_path)\n",
    "df.head()"
   ]
  }
 ],
 "metadata": {
  "kernelspec": { "display_name": "Python 3", "language": "python", "name": "python3" },
  "language_info": { "name": "python", "version": "3.9" }
 },
 "nbformat": 4,
 "nbformat_minor": 2
}
