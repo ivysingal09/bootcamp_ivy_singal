{
 "cells": [
  {
   "cell_type": "markdown",
   "metadata": {},
   "source": [
     "# Stage 11 — Evaluation & Risk Communication\\n",
     "Metrics, uncertainty, scenario comparison, and a short written summary."
   ]
  }
 ],
 "metadata": {
  "kernelspec": { "display_name": "Python 3", "language": "python", "name": "python3" },
  "language_info": { "name": "python", "version": "3.9" }
 },
 "nbformat": 4,
 "nbformat_minor": 2
}
