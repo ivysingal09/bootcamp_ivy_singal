{
 "cells": [
  {
   "cell_type": "markdown",
   "metadata": {},
   "source": [
    "# Stage 10b — Time-Series Modeling (Regression)"
   ]
  },
  {
   "cell_type": "code",
   "metadata": {},
   "source": [
    "import os\n",
    "from pathlib import Path\n",
    "import numpy as np\n",
    "import pandas as pd\n",
    "import matplotlib.pyplot as plt\n",
    "from sklearn.model_selection import TimeSeriesSplit, GridSearchCV\n",
    "from sklearn.pipeline import Pipeline\n",
    "from sklearn.preprocessing import StandardScaler\n",
    "from sklearn.ensemble import RandomForestRegressor\n",
    "from sklearn.metrics import mean_absolute_error, mean_squared_error, r2_score\n",
    "\n",
    "DATA_DIR = Path(\"../data\")\n",
    "PROC = DATA_DIR / \"processed\"\n",
    "FEAT_PATH = PROC / \"IYR_features_project.csv\"\n",
    "OUT_PRED = PROC / \"IYR_predictions_stage10b.csv\"\n",
    "MODEL_DIR = Path(\"../model\")\n",
    "MODEL_DIR.mkdir(exist_ok=True)\n",
    "\n",
    "df = pd.read_csv(FEAT_PATH, parse_dates=[\"Date\"]).sort_values(\"Date\").reset_index(drop=True)\n",
    "\n",
    "# target = next day's Close\n",
    "df[\"target_close_t1\"] = df[\"Close\"].shift(-1)\n",
    "df = df.dropna(subset=[\"target_close_t1\"]).copy()\n",
    "\n",
    "features = [c for c in df.columns if c not in [\"Date\", \"target_close_t1\"]]\n",
    "X = df[features]\n",
    "y = df[\"target_close_t1\"]\n",
    "\n",
    "# split 80/20 by time\n",
    "split_idx = int(len(df) * 0.8)\n",
    "X_train, y_train = X.iloc[:split_idx], y.iloc[:split_idx]\n",
    "X_valid, y_valid = X.iloc[split_idx:], y.iloc[split_idx:]\n",
    "dates_valid = df[\"Date\"].iloc[split_idx:]\n",
    "\n",
    "tscv = TimeSeriesSplit(n_splits=5)\n",
    "pipe = Pipeline([\n",
    "    (\"scale\", StandardScaler(with_mean=False)),\n",
    "    (\"rf\", RandomForestRegressor(random_state=42, n_jobs=-1))\n",
    "])\n",
    "\n",
    "param_grid = {\n",
    "    \"rf__n_estimators\": [200, 400],\n",
    "    \"rf__max_depth\": [None, 10, 20],\n",
    "    \"rf__min_samples_leaf\": [1, 3, 5],\n",
    "}\n",
    "\n",
    "gcv = GridSearchCV(pipe, param_grid=param_grid, scoring=\"neg_mean_absolute_error\", cv=tscv, n_jobs=-1)\n",
    "gcv.fit(X_train, y_train)\n",
    "best_model = gcv.best_estimator_\n",
    "best_params = gcv.best_params_\n",
    "best_mae_cv = -gcv.best_score_\n",
    "best_params, best_mae_cv\n"
   ]
  },
  {
   "cell_type": "code",
   "metadata": {},
   "source": [
    "pred_valid = best_model.predict(X_valid)\n",
    "mae = mean_absolute_error(y_valid, pred_valid)\n",
    "rmse = mean_squared_error(y_valid, pred_valid, squared=False)\n",
    "r2 = r2_score(y_valid, pred_valid)\n",
    "print(\"MAE:\", round(mae, 4))\n",
    "print(\"RMSE:\", round(rmse, 4))\n",
    "print(\"R2:\", round(r2, 4))\n",
    "\n",
    "plt.figure(figsize=(12,5))\n",
    "plt.plot(dates_valid, y_valid.values, label=\"Actual Close (t+1)\")\n",
    "plt.plot(dates_valid, pred_valid, label=\"Predicted\")\n",
    "plt.title(\"IYR: Actual vs Predicted (hold-out)\")\n",
    "plt.xlabel(\"Date\"); plt.ylabel(\"Close\"); plt.legend(); plt.show()\n",
    "\n",
    "resid = y_valid.values - pred_valid\n",
    "plt.figure(figsize=(10,4))\n",
    "plt.hist(resid, bins=40, edgecolor=\"k\")\n",
    "plt.title(\"Residuals (hold-out)\")\n",
    "plt.show()\n",
    "pd.Series(resid).describe()\n"
   ]
  },
  {
   "cell_type": "code",
   "metadata": {},
   "source": [
    "OUT_PRED.parent.mkdir(exist_ok=True, parents=True)\n",
    "out = pd.DataFrame({\n",
    "    \"Date\": dates_valid.values,\n",
    "    \"y_actual\": y_valid.values,\n",
    "    \"y_pred\": pred_valid\n",
    "})\n",
    "out.to_csv(OUT_PRED, index=False)\n",
    "print(\"Saved:\", OUT_PRED)\n",
    "\n",
    "import joblib\n",
    "model_path = MODEL_DIR / \"rf_time_pipeline_stage10b.joblib\"\n",
    "joblib.dump(best_model, model_path)\n",
    "print(\"Saved:\", model_path)\n"
   ]
  },
  {
   "cell_type": "markdown",
   "metadata": {},
   "source": [
    "Assumptions & Risks\\n",
    "- Time-aware split (no shuffling) reduces leakage.\\n",
    "- Predicting next-day Close using lag/rolling features.\\n",
    "- Tree model handles non-linearities but is less interpretable.\\n",
    "- Regime shifts (rates/inflation) can break relationships; retrain periodically.\\n",
    "- Add prediction intervals / alternative metrics for business use."
   ]
  }
 ],
 "metadata": {
  "kernelspec": { "display_name": "Python 3", "language": "python", "name": "python3" },
  "language_info": { "name": "python", "version": "3.9" }
 },
 "nbformat": 4,
 "nbformat_minor": 2
}
