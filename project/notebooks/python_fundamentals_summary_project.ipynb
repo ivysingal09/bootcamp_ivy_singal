{
 "cells": [
  {
   "cell_type": "markdown",
   "metadata": {},
   "source": [
    "# Stage 3 Project — Python Fundamentals\n",
    "\n",
    "This notebook demonstrates basic use of Python, NumPy, and pandas with dummy data."
   ]
  },
  {
   "cell_type": "code",
   "execution_count": null,
   "metadata": {},
   "outputs": [],
   "source": [
    "# Python basics\n",
    "numbers = [1, 2, 3, 4, 5]\n",
    "squares = [x**2 for x in numbers]\n",
    "squares"
   ]
  },
  {
   "cell_type": "code",
   "execution_count": null,
   "metadata": {},
   "outputs": [],
   "source": [
    "import numpy as np\n",
    "\n",
    "# NumPy example: create array and compute mean\n",
    "arr = np.array([10, 20, 30, 40, 50])\n",
    "arr.mean()"
   ]
  },
  {
   "cell_type": "code",
   "execution_count": null,
   "metadata": {},
   "outputs": [],
   "source": [
    "import pandas as pd\n",
    "\n",
    "# pandas example: simple DataFrame\n",
    "data = {\"City\": [\"NY\", \"LA\", \"Chicago\"], \"Price\": [500000, 700000, 300000]}\n",
    "df = pd.DataFrame(data)\n",
    "df.describe()"
   ]
  }
 ],
 "metadata": {
  "kernelspec": {
   "display_name": "Python 3",
   "language": "python",
   "name": "python3"
  },
  "language_info": {
   "name": "python",
   "version": "3.9"
  }
 },
 "nbformat": 4,
 "nbformat_minor": 2
}
